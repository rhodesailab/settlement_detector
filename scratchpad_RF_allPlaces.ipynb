{
 "cells": [
  {
   "cell_type": "code",
   "execution_count": 1,
   "metadata": {
    "colab": {
     "base_uri": "https://localhost:8080/",
     "height": 1000
    },
    "executionInfo": {
     "elapsed": 18542,
     "status": "error",
     "timestamp": 1613657512291,
     "user": {
      "displayName": "Sjihb Sguhu",
      "photoUrl": "",
      "userId": "17383621257869392589"
     },
     "user_tz": 0
    },
    "id": "CnGTKTZCesHD",
    "outputId": "0ac59528-8d1f-493f-a87a-524d0c364f40",
    "pycharm": {
     "is_executing": false
    }
   },
   "outputs": [
    {
     "name": "stdout",
     "output_type": "stream",
     "text": [
      "Requirement already satisfied: geemap in c:\\users\\maike\\anaconda3\\envs\\ee_rail\\lib\\site-packages (0.8.12)\n",
      "Requirement already satisfied: pandas in c:\\users\\maike\\anaconda3\\envs\\ee_rail\\lib\\site-packages (from geemap) (1.2.3)\n",
      "Requirement already satisfied: mss in c:\\users\\maike\\anaconda3\\envs\\ee_rail\\lib\\site-packages (from geemap) (6.1.0)\n",
      "Requirement already satisfied: pyshp in c:\\users\\maike\\anaconda3\\envs\\ee_rail\\lib\\site-packages (from geemap) (2.1.3)\n",
      "Requirement already satisfied: geeadd>=0.5.1 in c:\\users\\maike\\anaconda3\\envs\\ee_rail\\lib\\site-packages (from geemap) (0.5.4)\n",
      "Requirement already satisfied: ffmpeg-python in c:\\users\\maike\\anaconda3\\envs\\ee_rail\\lib\\site-packages (from geemap) (0.2.0)\n",
      "Requirement already satisfied: geocoder in c:\\users\\maike\\anaconda3\\envs\\ee_rail\\lib\\site-packages (from geemap) (1.38.1)\n",
      "Requirement already satisfied: click in c:\\users\\maike\\anaconda3\\envs\\ee_rail\\lib\\site-packages (from geemap) (7.1.2)\n",
      "Requirement already satisfied: ipyleaflet<=0.13.3 in c:\\users\\maike\\anaconda3\\envs\\ee_rail\\lib\\site-packages (from geemap) (0.13.3)\n",
      "Requirement already satisfied: whiteboxgui in c:\\users\\maike\\anaconda3\\envs\\ee_rail\\lib\\site-packages (from geemap) (0.1.9)\n",
      "Requirement already satisfied: ipyfilechooser in c:\\users\\maike\\anaconda3\\envs\\ee_rail\\lib\\site-packages (from geemap) (0.4.2)\n",
      "Requirement already satisfied: colour in c:\\users\\maike\\anaconda3\\envs\\ee_rail\\lib\\site-packages (from geemap) (0.1.5)\n",
      "Requirement already satisfied: numpy in c:\\users\\maike\\anaconda3\\envs\\ee_rail\\lib\\site-packages (from geemap) (1.20.1)\n",
      "Requirement already satisfied: matplotlib in c:\\users\\maike\\anaconda3\\envs\\ee_rail\\lib\\site-packages (from geemap) (3.3.4)\n",
      "Requirement already satisfied: googledrivedownloader in c:\\users\\maike\\anaconda3\\envs\\ee_rail\\lib\\site-packages (from geemap) (0.4)\n",
      "Requirement already satisfied: bqplot in c:\\users\\maike\\anaconda3\\envs\\ee_rail\\lib\\site-packages (from geemap) (0.12.23)\n",
      "Requirement already satisfied: ipynb-py-convert in c:\\users\\maike\\anaconda3\\envs\\ee_rail\\lib\\site-packages (from geemap) (0.4.6)\n",
      "Requirement already satisfied: pillow in c:\\users\\maike\\anaconda3\\envs\\ee_rail\\lib\\site-packages (from geemap) (8.1.2)\n",
      "Requirement already satisfied: ipyevents in c:\\users\\maike\\anaconda3\\envs\\ee_rail\\lib\\site-packages (from geemap) (0.8.2)\n",
      "Requirement already satisfied: ipytree in c:\\users\\maike\\anaconda3\\envs\\ee_rail\\lib\\site-packages (from geemap) (0.2.1)\n",
      "Requirement already satisfied: folium>=0.11.0 in c:\\users\\maike\\anaconda3\\envs\\ee_rail\\lib\\site-packages (from geemap) (0.12.1)\n",
      "Requirement already satisfied: pycrs in c:\\users\\maike\\anaconda3\\envs\\ee_rail\\lib\\site-packages (from geemap) (1.0.2)\n",
      "Requirement already satisfied: earthengine-api>=0.1.230 in c:\\users\\maike\\anaconda3\\envs\\ee_rail\\lib\\site-packages (from geemap) (0.1.257)\n",
      "Requirement already satisfied: python-box in c:\\users\\maike\\anaconda3\\envs\\ee_rail\\lib\\site-packages (from geemap) (5.3.0)\n",
      "Requirement already satisfied: voila in c:\\users\\maike\\anaconda3\\envs\\ee_rail\\lib\\site-packages (from geemap) (0.2.7)\n",
      "Requirement already satisfied: six in c:\\users\\maike\\anaconda3\\envs\\ee_rail\\lib\\site-packages (from earthengine-api>=0.1.230->geemap) (1.15.0)\n",
      "Requirement already satisfied: google-auth-httplib2>=0.0.3 in c:\\users\\maike\\anaconda3\\envs\\ee_rail\\lib\\site-packages (from earthengine-api>=0.1.230->geemap) (0.0.4)\n",
      "Requirement already satisfied: google-api-python-client<2,>=1.12.1 in c:\\users\\maike\\anaconda3\\envs\\ee_rail\\lib\\site-packages (from earthengine-api>=0.1.230->geemap) (1.12.8)\n",
      "Requirement already satisfied: httplib2shim in c:\\users\\maike\\anaconda3\\envs\\ee_rail\\lib\\site-packages (from earthengine-api>=0.1.230->geemap) (0.0.3)\n",
      "Requirement already satisfied: google-auth>=1.4.1 in c:\\users\\maike\\anaconda3\\envs\\ee_rail\\lib\\site-packages (from earthengine-api>=0.1.230->geemap) (1.24.0)\n",
      "Requirement already satisfied: future in c:\\users\\maike\\anaconda3\\envs\\ee_rail\\lib\\site-packages (from earthengine-api>=0.1.230->geemap) (0.18.2)\n",
      "Requirement already satisfied: httplib2<1dev,>=0.9.2 in c:\\users\\maike\\anaconda3\\envs\\ee_rail\\lib\\site-packages (from earthengine-api>=0.1.230->geemap) (0.19.0)\n",
      "Requirement already satisfied: google-cloud-storage in c:\\users\\maike\\anaconda3\\envs\\ee_rail\\lib\\site-packages (from earthengine-api>=0.1.230->geemap) (1.19.0)\n",
      "Requirement already satisfied: jinja2>=2.9 in c:\\users\\maike\\anaconda3\\envs\\ee_rail\\lib\\site-packages (from folium>=0.11.0->geemap) (2.11.3)\n",
      "Requirement already satisfied: branca>=0.3.0 in c:\\users\\maike\\anaconda3\\envs\\ee_rail\\lib\\site-packages (from folium>=0.11.0->geemap) (0.4.2)\n",
      "Requirement already satisfied: requests in c:\\users\\maike\\anaconda3\\envs\\ee_rail\\lib\\site-packages (from folium>=0.11.0->geemap) (2.25.1)\n",
      "Requirement already satisfied: beautifulsoup4>=4.9.0 in c:\\users\\maike\\anaconda3\\envs\\ee_rail\\lib\\site-packages (from geeadd>=0.5.1->geemap) (4.9.3)\n",
      "Requirement already satisfied: logzero>=1.5.0 in c:\\users\\maike\\anaconda3\\envs\\ee_rail\\lib\\site-packages (from geeadd>=0.5.1->geemap) (1.7.0)\n",
      "Requirement already satisfied: soupsieve>1.2 in c:\\users\\maike\\anaconda3\\envs\\ee_rail\\lib\\site-packages (from beautifulsoup4>=4.9.0->geeadd>=0.5.1->geemap) (2.2.1)\n",
      "Requirement already satisfied: google-api-core<2dev,>=1.21.0 in c:\\users\\maike\\anaconda3\\envs\\ee_rail\\lib\\site-packages (from google-api-python-client<2,>=1.12.1->earthengine-api>=0.1.230->geemap) (1.25.1)\n",
      "Requirement already satisfied: uritemplate<4dev,>=3.0.0 in c:\\users\\maike\\anaconda3\\envs\\ee_rail\\lib\\site-packages (from google-api-python-client<2,>=1.12.1->earthengine-api>=0.1.230->geemap) (3.0.1)\n",
      "Requirement already satisfied: googleapis-common-protos<2.0dev,>=1.6.0 in c:\\users\\maike\\anaconda3\\envs\\ee_rail\\lib\\site-packages (from google-api-core<2dev,>=1.21.0->google-api-python-client<2,>=1.12.1->earthengine-api>=0.1.230->geemap) (1.52.0)\n",
      "Requirement already satisfied: protobuf>=3.12.0 in c:\\users\\maike\\anaconda3\\envs\\ee_rail\\lib\\site-packages (from google-api-core<2dev,>=1.21.0->google-api-python-client<2,>=1.12.1->earthengine-api>=0.1.230->geemap) (3.15.6)\n",
      "Requirement already satisfied: setuptools>=40.3.0 in c:\\users\\maike\\anaconda3\\envs\\ee_rail\\lib\\site-packages (from google-api-core<2dev,>=1.21.0->google-api-python-client<2,>=1.12.1->earthengine-api>=0.1.230->geemap) (49.6.0.post20210108)\n",
      "Requirement already satisfied: pytz in c:\\users\\maike\\anaconda3\\envs\\ee_rail\\lib\\site-packages (from google-api-core<2dev,>=1.21.0->google-api-python-client<2,>=1.12.1->earthengine-api>=0.1.230->geemap) (2021.1)\n",
      "Requirement already satisfied: rsa<5,>=3.1.4 in c:\\users\\maike\\anaconda3\\envs\\ee_rail\\lib\\site-packages (from google-auth>=1.4.1->earthengine-api>=0.1.230->geemap) (4.7.2)\n",
      "Requirement already satisfied: cachetools<5.0,>=2.0.0 in c:\\users\\maike\\anaconda3\\envs\\ee_rail\\lib\\site-packages (from google-auth>=1.4.1->earthengine-api>=0.1.230->geemap) (4.2.1)\n",
      "Requirement already satisfied: pyasn1-modules>=0.2.1 in c:\\users\\maike\\anaconda3\\envs\\ee_rail\\lib\\site-packages (from google-auth>=1.4.1->earthengine-api>=0.1.230->geemap) (0.2.7)\n",
      "Requirement already satisfied: pyparsing<3,>=2.4.2 in c:\\users\\maike\\anaconda3\\envs\\ee_rail\\lib\\site-packages (from httplib2<1dev,>=0.9.2->earthengine-api>=0.1.230->geemap) (2.4.7)\n",
      "Requirement already satisfied: ipywidgets<8,>=7.5.0 in c:\\users\\maike\\anaconda3\\envs\\ee_rail\\lib\\site-packages (from ipyleaflet<=0.13.3->geemap) (7.6.3)\n",
      "Requirement already satisfied: traittypes<3,>=0.2.1 in c:\\users\\maike\\anaconda3\\envs\\ee_rail\\lib\\site-packages (from ipyleaflet<=0.13.3->geemap) (0.2.1)\n",
      "Requirement already satisfied: jupyterlab-widgets>=1.0.0 in c:\\users\\maike\\anaconda3\\envs\\ee_rail\\lib\\site-packages (from ipywidgets<8,>=7.5.0->ipyleaflet<=0.13.3->geemap) (1.0.0)\n",
      "Requirement already satisfied: widgetsnbextension~=3.5.0 in c:\\users\\maike\\anaconda3\\envs\\ee_rail\\lib\\site-packages (from ipywidgets<8,>=7.5.0->ipyleaflet<=0.13.3->geemap) (3.5.1)\n",
      "Requirement already satisfied: traitlets>=4.3.1 in c:\\users\\maike\\anaconda3\\envs\\ee_rail\\lib\\site-packages (from ipywidgets<8,>=7.5.0->ipyleaflet<=0.13.3->geemap) (5.0.5)\n",
      "Requirement already satisfied: ipython>=4.0.0 in c:\\users\\maike\\anaconda3\\envs\\ee_rail\\lib\\site-packages (from ipywidgets<8,>=7.5.0->ipyleaflet<=0.13.3->geemap) (7.21.0)\n",
      "Requirement already satisfied: nbformat>=4.2.0 in c:\\users\\maike\\anaconda3\\envs\\ee_rail\\lib\\site-packages (from ipywidgets<8,>=7.5.0->ipyleaflet<=0.13.3->geemap) (5.1.2)\n",
      "Requirement already satisfied: ipykernel>=4.5.1 in c:\\users\\maike\\anaconda3\\envs\\ee_rail\\lib\\site-packages (from ipywidgets<8,>=7.5.0->ipyleaflet<=0.13.3->geemap) (5.3.4)\n",
      "Requirement already satisfied: jupyter-client in c:\\users\\maike\\anaconda3\\envs\\ee_rail\\lib\\site-packages (from ipykernel>=4.5.1->ipywidgets<8,>=7.5.0->ipyleaflet<=0.13.3->geemap) (6.1.7)\n",
      "Requirement already satisfied: tornado>=4.2 in c:\\users\\maike\\anaconda3\\envs\\ee_rail\\lib\\site-packages (from ipykernel>=4.5.1->ipywidgets<8,>=7.5.0->ipyleaflet<=0.13.3->geemap) (6.1)\n",
      "Requirement already satisfied: decorator in c:\\users\\maike\\anaconda3\\envs\\ee_rail\\lib\\site-packages (from ipython>=4.0.0->ipywidgets<8,>=7.5.0->ipyleaflet<=0.13.3->geemap) (4.4.2)\n",
      "Requirement already satisfied: backcall in c:\\users\\maike\\anaconda3\\envs\\ee_rail\\lib\\site-packages (from ipython>=4.0.0->ipywidgets<8,>=7.5.0->ipyleaflet<=0.13.3->geemap) (0.2.0)\n",
      "Requirement already satisfied: pickleshare in c:\\users\\maike\\anaconda3\\envs\\ee_rail\\lib\\site-packages (from ipython>=4.0.0->ipywidgets<8,>=7.5.0->ipyleaflet<=0.13.3->geemap) (0.7.5)\n",
      "Requirement already satisfied: pygments in c:\\users\\maike\\anaconda3\\envs\\ee_rail\\lib\\site-packages (from ipython>=4.0.0->ipywidgets<8,>=7.5.0->ipyleaflet<=0.13.3->geemap) (2.8.1)\n",
      "Requirement already satisfied: prompt-toolkit!=3.0.0,!=3.0.1,<3.1.0,>=2.0.0 in c:\\users\\maike\\anaconda3\\envs\\ee_rail\\lib\\site-packages (from ipython>=4.0.0->ipywidgets<8,>=7.5.0->ipyleaflet<=0.13.3->geemap) (3.0.17)\n",
      "Requirement already satisfied: colorama in c:\\users\\maike\\anaconda3\\envs\\ee_rail\\lib\\site-packages (from ipython>=4.0.0->ipywidgets<8,>=7.5.0->ipyleaflet<=0.13.3->geemap) (0.4.4)\n",
      "Requirement already satisfied: jedi>=0.16 in c:\\users\\maike\\anaconda3\\envs\\ee_rail\\lib\\site-packages (from ipython>=4.0.0->ipywidgets<8,>=7.5.0->ipyleaflet<=0.13.3->geemap) (0.17.2)\n",
      "Requirement already satisfied: parso<0.8.0,>=0.7.0 in c:\\users\\maike\\anaconda3\\envs\\ee_rail\\lib\\site-packages (from jedi>=0.16->ipython>=4.0.0->ipywidgets<8,>=7.5.0->ipyleaflet<=0.13.3->geemap) (0.7.0)\n",
      "Requirement already satisfied: MarkupSafe>=0.23 in c:\\users\\maike\\anaconda3\\envs\\ee_rail\\lib\\site-packages (from jinja2>=2.9->folium>=0.11.0->geemap) (1.1.1)\n",
      "Requirement already satisfied: jsonschema!=2.5.0,>=2.4 in c:\\users\\maike\\anaconda3\\envs\\ee_rail\\lib\\site-packages (from nbformat>=4.2.0->ipywidgets<8,>=7.5.0->ipyleaflet<=0.13.3->geemap) (3.2.0)\n",
      "Requirement already satisfied: jupyter-core in c:\\users\\maike\\anaconda3\\envs\\ee_rail\\lib\\site-packages (from nbformat>=4.2.0->ipywidgets<8,>=7.5.0->ipyleaflet<=0.13.3->geemap) (4.7.1)\n",
      "Requirement already satisfied: ipython-genutils in c:\\users\\maike\\anaconda3\\envs\\ee_rail\\lib\\site-packages (from nbformat>=4.2.0->ipywidgets<8,>=7.5.0->ipyleaflet<=0.13.3->geemap) (0.2.0)\n",
      "Requirement already satisfied: attrs>=17.4.0 in c:\\users\\maike\\anaconda3\\envs\\ee_rail\\lib\\site-packages (from jsonschema!=2.5.0,>=2.4->nbformat>=4.2.0->ipywidgets<8,>=7.5.0->ipyleaflet<=0.13.3->geemap) (20.3.0)\n",
      "Requirement already satisfied: pyrsistent>=0.14.0 in c:\\users\\maike\\anaconda3\\envs\\ee_rail\\lib\\site-packages (from jsonschema!=2.5.0,>=2.4->nbformat>=4.2.0->ipywidgets<8,>=7.5.0->ipyleaflet<=0.13.3->geemap) (0.17.3)\n",
      "Requirement already satisfied: wcwidth in c:\\users\\maike\\anaconda3\\envs\\ee_rail\\lib\\site-packages (from prompt-toolkit!=3.0.0,!=3.0.1,<3.1.0,>=2.0.0->ipython>=4.0.0->ipywidgets<8,>=7.5.0->ipyleaflet<=0.13.3->geemap) (0.2.5)\n",
      "Requirement already satisfied: pyasn1<0.5.0,>=0.4.6 in c:\\users\\maike\\anaconda3\\envs\\ee_rail\\lib\\site-packages (from pyasn1-modules>=0.2.1->google-auth>=1.4.1->earthengine-api>=0.1.230->geemap) (0.4.8)\n",
      "Requirement already satisfied: idna<3,>=2.5 in c:\\users\\maike\\anaconda3\\envs\\ee_rail\\lib\\site-packages (from requests->folium>=0.11.0->geemap) (2.10)\n",
      "Requirement already satisfied: certifi>=2017.4.17 in c:\\users\\maike\\anaconda3\\envs\\ee_rail\\lib\\site-packages (from requests->folium>=0.11.0->geemap) (2020.12.5)\n",
      "Requirement already satisfied: urllib3<1.27,>=1.21.1 in c:\\users\\maike\\anaconda3\\envs\\ee_rail\\lib\\site-packages (from requests->folium>=0.11.0->geemap) (1.26.4)\n",
      "Requirement already satisfied: chardet<5,>=3.0.2 in c:\\users\\maike\\anaconda3\\envs\\ee_rail\\lib\\site-packages (from requests->folium>=0.11.0->geemap) (4.0.0)\n",
      "Requirement already satisfied: notebook>=4.4.1 in c:\\users\\maike\\anaconda3\\envs\\ee_rail\\lib\\site-packages (from widgetsnbextension~=3.5.0->ipywidgets<8,>=7.5.0->ipyleaflet<=0.13.3->geemap) (6.2.0)\n",
      "Requirement already satisfied: terminado>=0.8.3 in c:\\users\\maike\\anaconda3\\envs\\ee_rail\\lib\\site-packages (from notebook>=4.4.1->widgetsnbextension~=3.5.0->ipywidgets<8,>=7.5.0->ipyleaflet<=0.13.3->geemap) (0.9.3)\n",
      "Requirement already satisfied: prometheus-client in c:\\users\\maike\\anaconda3\\envs\\ee_rail\\lib\\site-packages (from notebook>=4.4.1->widgetsnbextension~=3.5.0->ipywidgets<8,>=7.5.0->ipyleaflet<=0.13.3->geemap) (0.9.0)\n",
      "Requirement already satisfied: pyzmq>=17 in c:\\users\\maike\\anaconda3\\envs\\ee_rail\\lib\\site-packages (from notebook>=4.4.1->widgetsnbextension~=3.5.0->ipywidgets<8,>=7.5.0->ipyleaflet<=0.13.3->geemap) (20.0.0)\n",
      "Requirement already satisfied: argon2-cffi in c:\\users\\maike\\anaconda3\\envs\\ee_rail\\lib\\site-packages (from notebook>=4.4.1->widgetsnbextension~=3.5.0->ipywidgets<8,>=7.5.0->ipyleaflet<=0.13.3->geemap) (20.1.0)\n",
      "Requirement already satisfied: nbconvert in c:\\users\\maike\\anaconda3\\envs\\ee_rail\\lib\\site-packages (from notebook>=4.4.1->widgetsnbextension~=3.5.0->ipywidgets<8,>=7.5.0->ipyleaflet<=0.13.3->geemap) (6.0.7)\n",
      "Requirement already satisfied: Send2Trash>=1.5.0 in c:\\users\\maike\\anaconda3\\envs\\ee_rail\\lib\\site-packages (from notebook>=4.4.1->widgetsnbextension~=3.5.0->ipywidgets<8,>=7.5.0->ipyleaflet<=0.13.3->geemap) (1.5.0)\n",
      "Requirement already satisfied: python-dateutil>=2.1 in c:\\users\\maike\\anaconda3\\envs\\ee_rail\\lib\\site-packages (from jupyter-client->ipykernel>=4.5.1->ipywidgets<8,>=7.5.0->ipyleaflet<=0.13.3->geemap) (2.8.1)\n",
      "Requirement already satisfied: pywin32>=1.0 in c:\\users\\maike\\anaconda3\\envs\\ee_rail\\lib\\site-packages (from jupyter-core->nbformat>=4.2.0->ipywidgets<8,>=7.5.0->ipyleaflet<=0.13.3->geemap) (228)\n",
      "Requirement already satisfied: pywinpty>=0.5 in c:\\users\\maike\\anaconda3\\envs\\ee_rail\\lib\\site-packages (from terminado>=0.8.3->notebook>=4.4.1->widgetsnbextension~=3.5.0->ipywidgets<8,>=7.5.0->ipyleaflet<=0.13.3->geemap) (0.5.7)\n",
      "Requirement already satisfied: cffi>=1.0.0 in c:\\users\\maike\\anaconda3\\envs\\ee_rail\\lib\\site-packages (from argon2-cffi->notebook>=4.4.1->widgetsnbextension~=3.5.0->ipywidgets<8,>=7.5.0->ipyleaflet<=0.13.3->geemap) (1.14.5)\n",
      "Requirement already satisfied: pycparser in c:\\users\\maike\\anaconda3\\envs\\ee_rail\\lib\\site-packages (from cffi>=1.0.0->argon2-cffi->notebook>=4.4.1->widgetsnbextension~=3.5.0->ipywidgets<8,>=7.5.0->ipyleaflet<=0.13.3->geemap) (2.20)\n",
      "Requirement already satisfied: ratelim in c:\\users\\maike\\anaconda3\\envs\\ee_rail\\lib\\site-packages (from geocoder->geemap) (0.1.6)\n",
      "Requirement already satisfied: google-resumable-media>=0.3.1 in c:\\users\\maike\\anaconda3\\envs\\ee_rail\\lib\\site-packages (from google-cloud-storage->earthengine-api>=0.1.230->geemap) (1.2.0)\n",
      "Requirement already satisfied: google-cloud-core<2.0dev,>=1.0.3 in c:\\users\\maike\\anaconda3\\envs\\ee_rail\\lib\\site-packages (from google-cloud-storage->earthengine-api>=0.1.230->geemap) (1.5.0)\n",
      "Requirement already satisfied: google-crc32c<2.0dev,>=1.0 in c:\\users\\maike\\anaconda3\\envs\\ee_rail\\lib\\site-packages (from google-resumable-media>=0.3.1->google-cloud-storage->earthengine-api>=0.1.230->geemap) (1.1.2)\n",
      "Requirement already satisfied: kiwisolver>=1.0.1 in c:\\users\\maike\\anaconda3\\envs\\ee_rail\\lib\\site-packages (from matplotlib->geemap) (1.3.1)\n",
      "Requirement already satisfied: cycler>=0.10 in c:\\users\\maike\\anaconda3\\envs\\ee_rail\\lib\\site-packages (from matplotlib->geemap) (0.10.0)\n",
      "Requirement already satisfied: bleach in c:\\users\\maike\\anaconda3\\envs\\ee_rail\\lib\\site-packages (from nbconvert->notebook>=4.4.1->widgetsnbextension~=3.5.0->ipywidgets<8,>=7.5.0->ipyleaflet<=0.13.3->geemap) (3.3.0)\n",
      "Requirement already satisfied: testpath in c:\\users\\maike\\anaconda3\\envs\\ee_rail\\lib\\site-packages (from nbconvert->notebook>=4.4.1->widgetsnbextension~=3.5.0->ipywidgets<8,>=7.5.0->ipyleaflet<=0.13.3->geemap) (0.4.4)\n",
      "Requirement already satisfied: defusedxml in c:\\users\\maike\\anaconda3\\envs\\ee_rail\\lib\\site-packages (from nbconvert->notebook>=4.4.1->widgetsnbextension~=3.5.0->ipywidgets<8,>=7.5.0->ipyleaflet<=0.13.3->geemap) (0.7.1)\n",
      "Requirement already satisfied: pandocfilters>=1.4.1 in c:\\users\\maike\\anaconda3\\envs\\ee_rail\\lib\\site-packages (from nbconvert->notebook>=4.4.1->widgetsnbextension~=3.5.0->ipywidgets<8,>=7.5.0->ipyleaflet<=0.13.3->geemap) (1.4.3)\n",
      "Requirement already satisfied: jupyterlab-pygments in c:\\users\\maike\\anaconda3\\envs\\ee_rail\\lib\\site-packages (from nbconvert->notebook>=4.4.1->widgetsnbextension~=3.5.0->ipywidgets<8,>=7.5.0->ipyleaflet<=0.13.3->geemap) (0.1.2)\n",
      "Requirement already satisfied: nbclient<0.6.0,>=0.5.0 in c:\\users\\maike\\anaconda3\\envs\\ee_rail\\lib\\site-packages (from nbconvert->notebook>=4.4.1->widgetsnbextension~=3.5.0->ipywidgets<8,>=7.5.0->ipyleaflet<=0.13.3->geemap) (0.5.3)\n",
      "Requirement already satisfied: mistune<2,>=0.8.1 in c:\\users\\maike\\anaconda3\\envs\\ee_rail\\lib\\site-packages (from nbconvert->notebook>=4.4.1->widgetsnbextension~=3.5.0->ipywidgets<8,>=7.5.0->ipyleaflet<=0.13.3->geemap) (0.8.4)\n",
      "Requirement already satisfied: entrypoints>=0.2.2 in c:\\users\\maike\\anaconda3\\envs\\ee_rail\\lib\\site-packages (from nbconvert->notebook>=4.4.1->widgetsnbextension~=3.5.0->ipywidgets<8,>=7.5.0->ipyleaflet<=0.13.3->geemap) (0.3)\n",
      "Requirement already satisfied: async-generator in c:\\users\\maike\\anaconda3\\envs\\ee_rail\\lib\\site-packages (from nbclient<0.6.0,>=0.5.0->nbconvert->notebook>=4.4.1->widgetsnbextension~=3.5.0->ipywidgets<8,>=7.5.0->ipyleaflet<=0.13.3->geemap) (1.10)\n",
      "Requirement already satisfied: nest-asyncio in c:\\users\\maike\\anaconda3\\envs\\ee_rail\\lib\\site-packages (from nbclient<0.6.0,>=0.5.0->nbconvert->notebook>=4.4.1->widgetsnbextension~=3.5.0->ipywidgets<8,>=7.5.0->ipyleaflet<=0.13.3->geemap) (1.5.1)\n",
      "Requirement already satisfied: packaging in c:\\users\\maike\\anaconda3\\envs\\ee_rail\\lib\\site-packages (from bleach->nbconvert->notebook>=4.4.1->widgetsnbextension~=3.5.0->ipywidgets<8,>=7.5.0->ipyleaflet<=0.13.3->geemap) (20.9)\n",
      "Requirement already satisfied: webencodings in c:\\users\\maike\\anaconda3\\envs\\ee_rail\\lib\\site-packages (from bleach->nbconvert->notebook>=4.4.1->widgetsnbextension~=3.5.0->ipywidgets<8,>=7.5.0->ipyleaflet<=0.13.3->geemap) (0.5.1)\n",
      "Requirement already satisfied: jupyter-server<2.0.0,>=0.3.0 in c:\\users\\maike\\anaconda3\\envs\\ee_rail\\lib\\site-packages (from voila->geemap) (1.4.1)\n",
      "Requirement already satisfied: anyio>=2.0.2 in c:\\users\\maike\\anaconda3\\envs\\ee_rail\\lib\\site-packages (from jupyter-server<2.0.0,>=0.3.0->voila->geemap) (2.2.0)\n",
      "Requirement already satisfied: sniffio>=1.1 in c:\\users\\maike\\anaconda3\\envs\\ee_rail\\lib\\site-packages (from anyio>=2.0.2->jupyter-server<2.0.0,>=0.3.0->voila->geemap) (1.2.0)\n",
      "Requirement already satisfied: whitebox in c:\\users\\maike\\anaconda3\\envs\\ee_rail\\lib\\site-packages (from whiteboxgui->geemap) (1.4.0)\n"
     ]
    }
   ],
   "source": [
    "import ee\n",
    "import datetime\n",
    "import folium\n",
    "!pip install geemap\n",
    "import geemap"
   ]
  },
  {
   "cell_type": "code",
   "execution_count": 2,
   "metadata": {},
   "outputs": [
    {
     "data": {
      "text/html": [
       "<p>To authorize access needed by Earth Engine, open the following\n",
       "        URL in a web browser and follow the instructions:</p>\n",
       "        <p><a href=https://accounts.google.com/o/oauth2/auth?client_id=517222506229-vsmmajv00ul0bs7p89v5m89qs8eb9359.apps.googleusercontent.com&scope=https%3A%2F%2Fwww.googleapis.com%2Fauth%2Fearthengine+https%3A%2F%2Fwww.googleapis.com%2Fauth%2Fdevstorage.full_control&redirect_uri=urn%3Aietf%3Awg%3Aoauth%3A2.0%3Aoob&response_type=code&code_challenge=W4FVnVPA8L29lawOatdhzN2NGa99KZ43mUZMvG3Cws4&code_challenge_method=S256>https://accounts.google.com/o/oauth2/auth?client_id=517222506229-vsmmajv00ul0bs7p89v5m89qs8eb9359.apps.googleusercontent.com&scope=https%3A%2F%2Fwww.googleapis.com%2Fauth%2Fearthengine+https%3A%2F%2Fwww.googleapis.com%2Fauth%2Fdevstorage.full_control&redirect_uri=urn%3Aietf%3Awg%3Aoauth%3A2.0%3Aoob&response_type=code&code_challenge=W4FVnVPA8L29lawOatdhzN2NGa99KZ43mUZMvG3Cws4&code_challenge_method=S256</a></p>\n",
       "        <p>The authorization workflow will generate a code, which you\n",
       "        should paste in the box below</p>\n",
       "        "
      ],
      "text/plain": [
       "<IPython.core.display.HTML object>"
      ]
     },
     "metadata": {},
     "output_type": "display_data"
    },
    {
     "name": "stdout",
     "output_type": "stream",
     "text": [
      "Enter verification code: 4/1AY0e-g6eapGadqCNM70R4h9_mhEQcNUuQK23pWDZ0pYgYnqjyInZKvaScn8\n",
      "\n",
      "Successfully saved authorization token.\n"
     ]
    }
   ],
   "source": [
    "ee.Authenticate()"
   ]
  },
  {
   "cell_type": "code",
   "execution_count": 3,
   "metadata": {},
   "outputs": [],
   "source": [
    "ee.Initialize()"
   ]
  },
  {
   "cell_type": "code",
   "execution_count": 4,
   "metadata": {
    "id": "vKK3bQUvesHL",
    "outputId": "2a26f877-1d46-4809-f941-7c9490682bbc",
    "pycharm": {
     "is_executing": false
    }
   },
   "outputs": [
    {
     "name": "stdout",
     "output_type": "stream",
     "text": [
      "2020-01-01 00:00:00\n"
     ]
    }
   ],
   "source": [
    "ee_date = ee.Date('2020-01-01')\n",
    "py_date = datetime.datetime.utcfromtimestamp(ee_date.getInfo()['value']/1000.0)\n",
    "print(py_date)"
   ]
  },
  {
   "cell_type": "code",
   "execution_count": 5,
   "metadata": {
    "id": "34Pc-xl0esHN",
    "outputId": "5a02a8f5-8fbc-4a8a-ac9f-7a7d989fdcf8",
    "pycharm": {
     "is_executing": false
    },
    "scrolled": true
   },
   "outputs": [
    {
     "name": "stdout",
     "output_type": "stream",
     "text": [
      "ee.Image({\n",
      "  \"functionInvocationValue\": {\n",
      "    \"functionName\": \"Image.load\",\n",
      "    \"arguments\": {\n",
      "      \"id\": {\n",
      "        \"constantValue\": \"users/rhodesailab3/Medellin_s2\"\n",
      "      }\n",
      "    }\n",
      "  }\n",
      "})\n",
      "{'type': 'Image', 'bands': [{'id': 'b1', 'data_type': {'type': 'PixelType', 'precision': 'int', 'min': 0, 'max': 65535}, 'dimensions': [143, 101], 'crs': 'EPSG:32618', 'crs_transform': [10, 0, 430110, 0, -10, 691490]}, {'id': 'b2', 'data_type': {'type': 'PixelType', 'precision': 'int', 'min': 0, 'max': 65535}, 'dimensions': [143, 101], 'crs': 'EPSG:32618', 'crs_transform': [10, 0, 430110, 0, -10, 691490]}, {'id': 'b3', 'data_type': {'type': 'PixelType', 'precision': 'int', 'min': 0, 'max': 65535}, 'dimensions': [143, 101], 'crs': 'EPSG:32618', 'crs_transform': [10, 0, 430110, 0, -10, 691490]}, {'id': 'b4', 'data_type': {'type': 'PixelType', 'precision': 'int', 'min': 0, 'max': 65535}, 'dimensions': [143, 101], 'crs': 'EPSG:32618', 'crs_transform': [10, 0, 430110, 0, -10, 691490]}, {'id': 'b5', 'data_type': {'type': 'PixelType', 'precision': 'int', 'min': 0, 'max': 65535}, 'dimensions': [143, 101], 'crs': 'EPSG:32618', 'crs_transform': [10, 0, 430110, 0, -10, 691490]}, {'id': 'b6', 'data_type': {'type': 'PixelType', 'precision': 'int', 'min': 0, 'max': 65535}, 'dimensions': [143, 101], 'crs': 'EPSG:32618', 'crs_transform': [10, 0, 430110, 0, -10, 691490]}, {'id': 'b7', 'data_type': {'type': 'PixelType', 'precision': 'int', 'min': 0, 'max': 65535}, 'dimensions': [143, 101], 'crs': 'EPSG:32618', 'crs_transform': [10, 0, 430110, 0, -10, 691490]}, {'id': 'b8', 'data_type': {'type': 'PixelType', 'precision': 'int', 'min': 0, 'max': 65535}, 'dimensions': [143, 101], 'crs': 'EPSG:32618', 'crs_transform': [10, 0, 430110, 0, -10, 691490]}, {'id': 'b9', 'data_type': {'type': 'PixelType', 'precision': 'int', 'min': 0, 'max': 65535}, 'dimensions': [143, 101], 'crs': 'EPSG:32618', 'crs_transform': [10, 0, 430110, 0, -10, 691490]}, {'id': 'b10', 'data_type': {'type': 'PixelType', 'precision': 'int', 'min': 0, 'max': 65535}, 'dimensions': [143, 101], 'crs': 'EPSG:32618', 'crs_transform': [10, 0, 430110, 0, -10, 691490]}], 'version': 1613638893845369, 'id': 'users/rhodesailab3/Medellin_s2', 'properties': {'system:footprint': {'type': 'LinearRing', 'coordinates': [[-75.6317632408618, 6.246317874947518], [-75.63175196461249, 6.246317168484697], [-75.61891583343612, 6.246332462002584], [-75.61887418756747, 6.246369054391815], [-75.61882819062416, 6.246400246221966], [-75.61882543791089, 6.246414985123733], [-75.6188360935749, 6.255468232518159], [-75.61887285560985, 6.255509686273922], [-75.61890420100919, 6.255555324540257], [-75.61891538945038, 6.255557448048158], [-75.61892666668787, 6.255558155325523], [-75.63176306328307, 6.255542856276521], [-75.6318047054876, 6.255506256724037], [-75.63185060956712, 6.25547505639077], [-75.63185345082495, 6.255460317000291], [-75.63184261852916, 6.246407078689868], [-75.63180577095963, 6.246365629045812], [-75.63177442832088, 6.246319997500351], [-75.6317632408618, 6.246317874947518]]}, 'system:asset_size': 143757}}\n",
      "ee.Image({\n",
      "  \"functionInvocationValue\": {\n",
      "    \"functionName\": \"Image.load\",\n",
      "    \"arguments\": {\n",
      "      \"id\": {\n",
      "        \"constantValue\": \"users/rhodesailab3/Medellin_ground_truth_s2\"\n",
      "      }\n",
      "    }\n",
      "  }\n",
      "})\n",
      "{'type': 'Image', 'bands': [{'id': 'b1', 'data_type': {'type': 'PixelType', 'precision': 'int', 'min': 0, 'max': 255}, 'dimensions': [143, 101], 'crs': 'EPSG:32618', 'crs_transform': [10, 0, 430104.5074502777, 0, -10, 691497.350715169]}], 'version': 1613638906016500.0, 'id': 'users/rhodesailab3/Medellin_ground_truth_s2', 'properties': {'system:footprint': {'type': 'LinearRing', 'coordinates': [[-75.63181296289562, 6.246384348288629], [-75.63180168665014, 6.2463836418232574], [-75.61896555983097, 6.2463988546969], [-75.61892391397645, 6.246435525932105], [-75.61887791704872, 6.2464666389915084], [-75.61887516433639, 6.2464814567165785], [-75.61888581999679, 6.255534715862183], [-75.61892258201927, 6.255576090860556], [-75.61895392740796, 6.255621808007144], [-75.61896511584537, 6.255623852702844], [-75.61897639307902, 6.255624559982755], [-75.63181278531695, 6.255609262767537], [-75.63185442750734, 6.2555726631736315], [-75.63190033157126, 6.255541541627], [-75.63190317282812, 6.255526723397383], [-75.63189234053601, 6.24647355215825], [-75.63185549297899, 6.246432102455064], [-75.63182415035091, 6.246386392037389], [-75.63181296289562, 6.246384348288629]]}, 'system:asset_size': 455}}\n",
      "ee.Image({\n",
      "  \"functionInvocationValue\": {\n",
      "    \"functionName\": \"Image.load\",\n",
      "    \"arguments\": {\n",
      "      \"id\": {\n",
      "        \"constantValue\": \"users/rhodesailab3/Kenya_Lower_30cm_ground_truth_dg\"\n",
      "      }\n",
      "    }\n",
      "  }\n",
      "})\n",
      "{'type': 'Image', 'bands': [{'id': 'b1', 'data_type': {'type': 'PixelType', 'precision': 'float'}, 'dimensions': [18535, 1426], 'crs': 'EPSG:32737', 'crs_transform': [0.3, 0, 248429.29471299998, 0, -0.30000000000052246, 9858486.69296]}], 'version': 1613638958476379, 'id': 'users/rhodesailab3/Kenya_Lower_30cm_ground_truth_dg', 'properties': {'system:footprint': {'type': 'LinearRing', 'coordinates': [[36.7392266277655, -1.279311218344782], [36.73922654553156, -1.2793115756429032], [36.739223173939955, -1.2831762211097206], [36.73922424298121, -1.2831775084620844], [36.7392252297885, -1.2831788565167894], [36.73922564095821, -1.283178968301675], [36.78916815714436, -1.2832229031813616], [36.78916938982244, -1.2832218153048796], [36.78917078685756, -1.2832208432587549], [36.78917078685756, -1.2832205468036704], [36.7891708690361, -1.2832201896817002], [36.78917415617747, -1.2793554101728577], [36.78917308785654, -1.2793541237512414], [36.789172101714136, -1.2793527766736394], [36.789171690821455, -1.279352664963724], [36.73922925925151, -1.279308860969252], [36.73922802574245, -1.2793099493048685], [36.7392266277655, -1.2793109217381122], [36.7392266277655, -1.279311218344782]]}, 'system:asset_size': 633047}}\n",
      "ee.Image({\n",
      "  \"functionInvocationValue\": {\n",
      "    \"functionName\": \"Image.load\",\n",
      "    \"arguments\": {\n",
      "      \"id\": {\n",
      "        \"constantValue\": \"users/rhodesailab3/Makoko_50cm_large_ground_truth_dg\"\n",
      "      }\n",
      "    }\n",
      "  }\n",
      "})\n",
      "{'type': 'Image', 'bands': [{'id': 'b1', 'data_type': {'type': 'PixelType', 'precision': 'int', 'min': 0, 'max': 255}, 'dimensions': [5375, 2980], 'crs': 'EPSG:32631', 'crs_transform': [0.5, 0, 541208.8752640012, 0, -0.5, 718886.3853456805]}], 'version': 1613634972003417, 'id': 'users/rhodesailab3/Makoko_50cm_large_ground_truth_dg', 'properties': {'system:footprint': {'type': 'LinearRing', 'coordinates': [[3.397012198562319, 6.490078264789543], [3.397012198562319, 6.490078833339353], [3.3970227410042044, 6.503552798840375], [3.3970208941529076, 6.5035548421451805], [3.3970193551102166, 6.503557127110052], [3.3970185855888877, 6.503557294727887], [3.372716078004837, 6.503575746844989], [3.372713924405169, 6.503573892595964], [3.372711693891332, 6.503572363819139], [3.372711540062792, 6.503571796155734], [3.372711540062792, 6.503571227472129], [3.3727016181231737, 6.490097283316153], [3.372703464065278, 6.490095240518583], [3.3727050023504184, 6.490092956087741], [3.3727057714930058, 6.490092788550713], [3.397007658387312, 6.490074315207511], [3.3970097360944678, 6.490076169448888], [3.3970120446580743, 6.4900776972657255], [3.397012198562319, 6.490078264789543]]}, 'system:asset_size': 76035}}\n",
      "ee.Image({\n",
      "  \"functionInvocationValue\": {\n",
      "    \"functionName\": \"Image.load\",\n",
      "    \"arguments\": {\n",
      "      \"id\": {\n",
      "        \"constantValue\": \"users/rhodesailab3/Mumbai_ground_truth_s2\"\n",
      "      }\n",
      "    }\n",
      "  }\n",
      "})\n",
      "{'type': 'Image', 'bands': [{'id': 'b1', 'data_type': {'type': 'PixelType', 'precision': 'int', 'min': 0, 'max': 255}, 'dimensions': [1993, 3927], 'crs': 'EPSG:32643', 'crs_transform': [10, 0, 266809.303971, 0, -10.002546473134709, 2131415.50617]}], 'version': 1613638969398103, 'id': 'users/rhodesailab3/Mumbai_ground_truth_s2', 'properties': {'system:footprint': {'type': 'LinearRing', 'coordinates': [[72.78609448066895, 18.90820142496658], [72.78610638341384, 18.90820089045231], [72.97513785807837, 18.910358531475506], [72.97518119697422, 18.91039557535259], [72.97522913104517, 18.91042717473927], [72.97523192419561, 18.91044199515347], [72.97091403455374, 19.265132793634212], [72.9708747495229, 19.26517390152445], [72.97084123109695, 19.26521924627699], [72.97082951766743, 19.26522120114034], [72.97081762403067, 19.265221822111634], [72.78138365375385, 19.263020547048097], [72.78134018986557, 19.262983459520644], [72.78129221726631, 19.262951813634043], [72.7812894218702, 19.262936983400124], [72.78601007937047, 18.908289717561942], [72.7860493043365, 18.908248750160705], [72.78608275826811, 18.908203378742503], [72.78609448066895, 18.90820142496658]]}, 'system:asset_size': 239769}}\n",
      "ee.Image({\n",
      "  \"functionInvocationValue\": {\n",
      "    \"functionName\": \"Image.load\",\n",
      "    \"arguments\": {\n",
      "      \"id\": {\n",
      "        \"constantValue\": \"users/rhodesailab3/Kibera_30cm_ground_truth_dg\"\n",
      "      }\n",
      "    }\n",
      "  }\n",
      "})\n",
      "{'type': 'Image', 'bands': [{'id': 'b1', 'data_type': {'type': 'PixelType', 'precision': 'int', 'min': -32768, 'max': 32767}, 'dimensions': [13677, 6272], 'crs': 'EPSG:21037', 'crs_transform': [0.29137968852818685, 0, 251963.2375, 0, -0.2432358099488608, 9855858.0375]}], 'version': 1613634899686061, 'id': 'users/rhodesailab3/Kibera_30cm_ground_truth_dg', 'properties': {'system:footprint': {'type': 'LinearRing', 'coordinates': [[36.77181741203558, -1.3058093187817188], [36.77181741203558, -1.3058096154980523], [36.77180516456179, -1.3195992412570285], [36.771806150935596, -1.3196003522637207], [36.77180697291375, -1.319601525466279], [36.77180738390283, -1.319601637129376], [36.80760154628043, -1.31963356141939], [36.80760269649314, -1.3196325921514511], [36.80760392886389, -1.3196317994901763], [36.80760392886389, -1.3196315027866974], [36.80760401102194, -1.319631204667742], [36.807616006096076, -1.3058412901607255], [36.80761502019964, -1.305840179951989], [36.80761419861928, -1.3058389483084898], [36.80761378782909, -1.3058388959952816], [36.77181979577185, -1.3058072605247564], [36.771818645002625, -1.3058082296101872], [36.77181741203558, -1.3058090220653888], [36.77181741203558, -1.3058093187817188]]}, 'system:asset_size': 543102}}\n"
     ]
    }
   ],
   "source": [
    "medellin = ee.Image(\"users/rhodesailab3/Medellin_s2\")\n",
    "medellin_gt = ee.Image(\"users/rhodesailab3/Medellin_ground_truth_s2\")\n",
    "lower_gt = ee.Image(\"users/rhodesailab3/Kenya_Lower_30cm_ground_truth_dg\")\n",
    "makoko_gt = ee.Image(\"users/rhodesailab3/Makoko_50cm_large_ground_truth_dg\")\n",
    "mumbai_gt = ee.Image(\"users/rhodesailab3/Mumbai_ground_truth_s2\")\n",
    "kibera_gt = ee.Image(\"users/rhodesailab3/Kibera_30cm_ground_truth_dg\")\n",
    "\n",
    "print(medellin)\n",
    "print(medellin.getInfo())\n",
    "\n",
    "print(medellin_gt)\n",
    "print(medellin_gt.getInfo())\n",
    "\n",
    "print(lower_gt)\n",
    "print(lower_gt.getInfo())\n",
    "\n",
    "print(makoko_gt)\n",
    "print(makoko_gt.getInfo())\n",
    "\n",
    "print(mumbai_gt)\n",
    "print(mumbai_gt.getInfo())\n",
    "\n",
    "print(kibera_gt)\n",
    "print(kibera_gt.getInfo())"
   ]
  },
  {
   "cell_type": "code",
   "execution_count": 6,
   "metadata": {},
   "outputs": [
    {
     "name": "stdout",
     "output_type": "stream",
     "text": [
      "{'type': 'Image', 'bands': [{'id': 'b1', 'data_type': {'type': 'PixelType', 'precision': 'int', 'min': 0, 'max': 255}, 'dimensions': [4802, 3418], 'origin': [-28064334, -2325853], 'crs': 'EPSG:3857', 'crs_transform': [0.3, 0, 0, 0, -0.3, 0]}], 'version': 1613638906016500.0, 'id': 'users/rhodesailab3/Medellin_ground_truth_s2', 'properties': {'system:footprint': {'type': 'LinearRing', 'coordinates': [[-75.63181296289562, 6.246384348288629], [-75.63180168665014, 6.2463836418232574], [-75.61896555983097, 6.2463988546969], [-75.61892391397645, 6.246435525932105], [-75.61887791704872, 6.2464666389915084], [-75.61887516433639, 6.2464814567165785], [-75.61888581999679, 6.255534715862183], [-75.61892258201927, 6.255576090860556], [-75.61895392740796, 6.255621808007144], [-75.61896511584537, 6.255623852702844], [-75.61897639307902, 6.255624559982755], [-75.63181278531695, 6.255609262767537], [-75.63185442750734, 6.2555726631736315], [-75.63190033157126, 6.255541541627], [-75.63190317282812, 6.255526723397383], [-75.63189234053601, 6.24647355215825], [-75.63185549297899, 6.246432102455064], [-75.63182415035091, 6.246386392037389], [-75.63181296289562, 6.246384348288629]]}, 'system:asset_size': 455}}\n",
      "{'type': 'Image', 'bands': [{'id': 'b1', 'data_type': {'type': 'PixelType', 'precision': 'int', 'min': 0, 'max': 255}, 'crs': 'EPSG:3857', 'crs_transform': [0.3, 0, 0, 0, -0.3, 0]}], 'version': 1613634899686061, 'id': 'users/rhodesailab3/Kibera_30cm_ground_truth_dg', 'properties': {'system:footprint': {'type': 'LinearRing', 'coordinates': [[36.77181741203558, -1.3058093187817188], [36.77181741203558, -1.3058096154980523], [36.77180516456179, -1.3195992412570285], [36.771806150935596, -1.3196003522637207], [36.77180697291375, -1.319601525466279], [36.77180738390283, -1.319601637129376], [36.80760154628043, -1.31963356141939], [36.80760269649314, -1.3196325921514511], [36.80760392886389, -1.3196317994901763], [36.80760392886389, -1.3196315027866974], [36.80760401102194, -1.319631204667742], [36.807616006096076, -1.3058412901607255], [36.80761502019964, -1.305840179951989], [36.80761419861928, -1.3058389483084898], [36.80761378782909, -1.3058388959952816], [36.77181979577185, -1.3058072605247564], [36.771818645002625, -1.3058082296101872], [36.77181741203558, -1.3058090220653888], [36.77181741203558, -1.3058093187817188]]}, 'system:asset_size': 543102}}\n"
     ]
    }
   ],
   "source": [
    "## reproject & change data type to byte\n",
    "\n",
    "proj = ee.Projection('EPSG:3857')\n",
    "\n",
    "medellin_proj = medellin.reproject(proj)\n",
    "#print(medellin_proj.getInfo())\n",
    "\n",
    "medellin_gt_proj = medellin_gt.reproject(proj, None, 0.3).byte()\n",
    "print(medellin_gt_proj.getInfo())\n",
    "\n",
    "lower_gt_proj = lower_gt.reproject(proj, None, 0.3).byte()\n",
    "\n",
    "makoko_gt_proj = makoko_gt.reproject(proj, None, 0.3).byte()\n",
    "\n",
    "mumbai_gt_proj = mumbai_gt.reproject(proj, None, 0.3).byte()\n",
    "\n",
    "kibera_gt_proj = kibera_gt.reproject(proj, None, 0.3).byte()\n",
    "print(kibera_gt_proj.getInfo())"
   ]
  },
  {
   "cell_type": "code",
   "execution_count": 10,
   "metadata": {
    "id": "a5s9yF9CesHO",
    "outputId": "c04c9829-1278-4ae4-9900-0ae3cf7046ad"
   },
   "outputs": [
    {
     "data": {
      "application/vnd.jupyter.widget-view+json": {
       "model_id": "a7e0c09f6e8d4405b0a23b7cea20334c",
       "version_major": 2,
       "version_minor": 0
      },
      "text/plain": [
       "Map(center=[6.2497, -75.58305], controls=(WidgetControl(options=['position'], widget=HBox(children=(ToggleButt…"
      ]
     },
     "metadata": {},
     "output_type": "display_data"
    }
   ],
   "source": [
    "# determine visualisation parameters\n",
    "vis_params = {'bands': ['b1'], 'min': 0, 'max': 1, 'palette': ['white', 'blue']}\n",
    "\n",
    "Map = geemap.Map(center=[6.2497,-75.58305], zoom=12)\n",
    "Map\n",
    "#Map.addLayer(medellin_gt_proj, vis_params, 'medellin')\n",
    "#Map.addLayer(lower_gt_proj, vis_params, 'lower')\n",
    "#Map.addLayer(makoko_gt_proj, vis_params, 'makoko')\n",
    "#Map.addLayer(mumbai_gt_proj, vis_params, 'mumbai')\n",
    "Map.addLayer(kibera_gt_proj, vis_params, 'kibera')\n",
    "Map\n",
    "\n",
    "## TO DO: why is nothing besides Medellin appearing?!"
   ]
  },
  {
   "cell_type": "code",
   "execution_count": null,
   "metadata": {
    "id": "SDQpEm09esHO"
   },
   "outputs": [],
   "source": [
    "# Use these bands for prediction.\n",
    "bands = ['B2', 'B3', 'B4', 'B5', 'B6', 'B7', 'B10', 'B11']\n",
    "bands_234 = ['b2', 'b3', 'b4']\n",
    "# This property of the table stores the land cover labels.\n",
    "label = 'informal_settlement'\n",
    "\n",
    "# Overlay the points on the imagery to get training.\n",
    "training = medellin.select(bands234).sampleRegions(**{\n",
    "  'collection': polygons,\n",
    "  'properties': [label],\n",
    "  'scale': 10\n",
    "})"
   ]
  },
  {
   "cell_type": "code",
   "execution_count": null,
   "metadata": {
    "id": "P9xLUprFesHP"
   },
   "outputs": [],
   "source": [
    "svm_classifier = ee.Classifier.libsvm(kernelType = 'RBF')\n",
    "trained = svm_classifier.train(training, label, bands)"
   ]
  },
  {
   "cell_type": "code",
   "execution_count": null,
   "metadata": {
    "id": "xl9RmoxlesHP"
   },
   "outputs": [],
   "source": [
    "result = medellin.select(bands).classify(trained)"
   ]
  },
  {
   "cell_type": "code",
   "execution_count": null,
   "metadata": {
    "colab": {
     "referenced_widgets": [
      "de6c9ee8dc474be2924720af4ad3110f"
     ]
    },
    "id": "OVHFpDOResHQ",
    "outputId": "ae917a70-2db4-4b08-862e-c83e6706e7ac"
   },
   "outputs": [],
   "source": [
    "# Display the classification result and the input image.\n",
    "Map = geemap.Map(center=[6.2497,-75.58305], zoom=12)\n",
    "Map.addLayer(medellin, {\"bands\" : ['b4', 'b3', 'b2'], \"max\" : 0.5, \"gamma\" : 2})\n",
    "#Map.addLayer(polygons, {}, 'training polygons')\n",
    "#Map.addLayer(result, {\"min\" : 0, \"max\" : 1.0, \"palette\" : ['red', 'green']}, \"informal_settlement\")\n",
    "Map"
   ]
  },
  {
   "cell_type": "code",
   "execution_count": null,
   "metadata": {
    "colab": {
     "referenced_widgets": [
      "1672ebd6176246b3a51bc223d7a24d09"
     ]
    },
    "id": "0shdZ6UQesHR",
    "outputId": "f8b7489e-b523-40ae-ed3b-7930ed0deadc"
   },
   "outputs": [],
   "source": [
    "Map = geemap.Map(center=[6.2497,-75.58305], zoom=12)\n",
    "#Map.addLayer(medellin, {\"bands\" : ['b4', 'b3', 'b2'], \"max\" : 0.5, \"gamma\" : 2})\n",
    "Map.addLayer(result, {\"min\" : 0, \"max\" : 1.0, \"palette\" : ['red', 'green']}, \"informal_settlement\")\n",
    "Map.addLayer(polygons, {}, 'training polygons')\n",
    "Map"
   ]
  },
  {
   "cell_type": "code",
   "execution_count": null,
   "metadata": {
    "colab": {
     "referenced_widgets": [
      "1672ebd6176246b3a51bc223d7a24d09"
     ]
    },
    "id": "8qEbTvZNesHS",
    "outputId": "0094d14a-133c-47c0-f22e-a7246efad606"
   },
   "outputs": [],
   "source": [
    "Map.addLayer(polygons, {}, 'training polygons')\n",
    "Map"
   ]
  },
  {
   "cell_type": "code",
   "execution_count": null,
   "metadata": {
    "colab": {
     "referenced_widgets": [
      "1672ebd6176246b3a51bc223d7a24d09"
     ]
    },
    "id": "5ZlCWuPLesHT",
    "outputId": "691a0516-969d-48d3-ee01-28a6a30bf5b8"
   },
   "outputs": [],
   "source": [
    "medellin_ground_det={\n",
    "  \"bands\": ['b1'],\n",
    "  \"min\" : 0,\n",
    "  \"max\" : 1\n",
    "}\n",
    "Map.addLayer(medellin_gt,medellin_ground_det,'Medellin')\n",
    "Map"
   ]
  },
  {
   "cell_type": "code",
   "execution_count": null,
   "metadata": {
    "id": "iQ84WBOsesHU"
   },
   "outputs": [],
   "source": [
    "kianda = ee.Image(\"users/shehryarsaroya/Kianda_s2\")\n",
    "kianda_gt = ee.Image(\"users/shehryarsaroya/Kianda_ground_truth_s2\")\n"
   ]
  },
  {
   "cell_type": "code",
   "execution_count": null,
   "metadata": {
    "id": "fIhAu5XwesHV"
   },
   "outputs": [],
   "source": [
    "result_kianda = kianda.select(bands).classify(trained)"
   ]
  },
  {
   "cell_type": "code",
   "execution_count": null,
   "metadata": {
    "id": "SICqtQkCesHV"
   },
   "outputs": [],
   "source": [
    "polygons_kianda = kianda_gt.reduceToVectors(scale = 10, labelProperty = \"informal_settlement\")"
   ]
  },
  {
   "cell_type": "code",
   "execution_count": null,
   "metadata": {
    "id": "n_xDg7slesHW"
   },
   "outputs": [],
   "source": [
    "#print(polygons_kianda.getInfo())"
   ]
  },
  {
   "cell_type": "code",
   "execution_count": null,
   "metadata": {
    "colab": {
     "referenced_widgets": [
      "faa1695f9d8f4ce8876b639b6366a9fb"
     ]
    },
    "id": "ZBAMZMt5esHW",
    "outputId": "4bd8f97d-2690-404a-a06c-b5e42d0001d0"
   },
   "outputs": [],
   "source": [
    "Map = geemap.Map(center=[-1.3115,36.7659242], zoom=15)\n",
    "#Map.addLayer(medellin, {\"bands\" : ['b4', 'b3', 'b2'], \"max\" : 0.5, \"gamma\" : 2})\n",
    "Map.addLayer(result_kianda, {\"min\" : 0, \"max\" : 1.0, \"palette\" : ['red', 'green']}, \"informal_settlement\")\n",
    "Map.addLayer(polygons_kianda, {}, 'training polygons')\n",
    "Map"
   ]
  },
  {
   "cell_type": "code",
   "execution_count": null,
   "metadata": {
    "id": "1fQBCBLOesHX"
   },
   "outputs": [],
   "source": []
  }
 ],
 "metadata": {
  "colab": {
   "name": "scratchpad (1).ipynb",
   "provenance": []
  },
  "kernelspec": {
   "display_name": "Python 3",
   "language": "python",
   "name": "python3"
  },
  "language_info": {
   "codemirror_mode": {
    "name": "ipython",
    "version": 3
   },
   "file_extension": ".py",
   "mimetype": "text/x-python",
   "name": "python",
   "nbconvert_exporter": "python",
   "pygments_lexer": "ipython3",
   "version": "3.9.2"
  },
  "pycharm": {
   "stem_cell": {
    "cell_type": "raw",
    "metadata": {
     "collapsed": false
    },
    "source": []
   }
  }
 },
 "nbformat": 4,
 "nbformat_minor": 1
}
