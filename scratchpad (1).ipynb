{
 "cells": [
  {
   "cell_type": "code",
   "execution_count": 2,
   "metadata": {
    "colab": {
     "base_uri": "https://localhost:8080/",
     "height": 1000
    },
    "executionInfo": {
     "elapsed": 18542,
     "status": "error",
     "timestamp": 1613657512291,
     "user": {
      "displayName": "Sjihb Sguhu",
      "photoUrl": "",
      "userId": "17383621257869392589"
     },
     "user_tz": 0
    },
    "id": "CnGTKTZCesHD",
    "outputId": "0ac59528-8d1f-493f-a87a-524d0c364f40",
    "pycharm": {
     "is_executing": false
    }
   },
   "outputs": [
    {
     "name": "stdout",
     "output_type": "stream",
     "text": [
      "Collecting geemap\n",
      "\u001b[?25l  Downloading https://files.pythonhosted.org/packages/38/fc/f99b03cc72cb145a406333211e909977e16165c707782bb2735b427d7dee/geemap-0.8.10-py2.py3-none-any.whl (396kB)\n",
      "\u001b[K     |████████████████████████████████| 399kB 6.3MB/s \n",
      "\u001b[?25hCollecting ipyevents\n",
      "\u001b[?25l  Downloading https://files.pythonhosted.org/packages/ba/b5/b5861db870aa465be738996da9833fdf39e395b9aa0802ed2fc347297ae8/ipyevents-0.8.2-py2.py3-none-any.whl (133kB)\n",
      "\u001b[K     |████████████████████████████████| 143kB 10.3MB/s \n",
      "\u001b[?25hCollecting whiteboxgui\n",
      "  Downloading https://files.pythonhosted.org/packages/3e/9d/71e9192f4c748b29efe8beecd5a88300a654e2a87b856c7a3bb91fdbe606/whiteboxgui-0.1.9-py2.py3-none-any.whl\n",
      "Requirement already satisfied: earthengine-api>=0.1.230 in /usr/local/lib/python3.6/dist-packages (from geemap) (0.1.238)\n",
      "Collecting pycrs\n",
      "  Downloading https://files.pythonhosted.org/packages/50/0b/33c6ab39701d982eabfdc732d920862d79d7598893c7291c5f6ec1e66d3c/PyCRS-1.0.2.tar.gz\n",
      "Collecting ipynb-py-convert\n",
      "  Downloading https://files.pythonhosted.org/packages/43/90/37ff1b9f553583e60c327e1ea8cbfea469c38c9d8791ad1f7ee6d3482efa/ipynb-py-convert-0.4.6.tar.gz\n",
      "Collecting mss\n",
      "\u001b[?25l  Downloading https://files.pythonhosted.org/packages/d7/5f/77dece686b8d08a17430e169e936722693712b8cf1ee638caa8b1cb6452b/mss-6.1.0-py3-none-any.whl (76kB)\n",
      "\u001b[K     |████████████████████████████████| 81kB 6.5MB/s \n",
      "\u001b[?25hCollecting ipytree\n",
      "\u001b[?25l  Downloading https://files.pythonhosted.org/packages/36/2f/f93092e485afc384b4cc39f17ff1cb252380a3745bb4a7e2f6e488e3d0c4/ipytree-0.1.8-py2.py3-none-any.whl (1.1MB)\n",
      "\u001b[K     |████████████████████████████████| 1.1MB 10.6MB/s \n",
      "\u001b[?25hCollecting colour\n",
      "  Downloading https://files.pythonhosted.org/packages/74/46/e81907704ab203206769dee1385dc77e1407576ff8f50a0681d0a6b541be/colour-0.1.5-py2.py3-none-any.whl\n",
      "Collecting folium>=0.11.0\n",
      "\u001b[?25l  Downloading https://files.pythonhosted.org/packages/c3/83/e8cb37afc2f016a1cf4caab8d22caf7fe4156c4c15230d8abc9c83547e0c/folium-0.12.1-py2.py3-none-any.whl (94kB)\n",
      "\u001b[K     |████████████████████████████████| 102kB 9.7MB/s \n",
      "\u001b[?25hCollecting ipyleaflet<=0.13.3\n",
      "\u001b[?25l  Downloading https://files.pythonhosted.org/packages/a0/9d/f411b8a9522f1710f278c60b2cd8d26817d8c64b7568de95f9437db6caf0/ipyleaflet-0.13.3-py2.py3-none-any.whl (5.1MB)\n",
      "\u001b[K     |████████████████████████████████| 5.1MB 22.1MB/s \n",
      "\u001b[?25hRequirement already satisfied: pandas in /usr/local/lib/python3.6/dist-packages (from geemap) (1.1.5)\n",
      "Requirement already satisfied: matplotlib in /usr/local/lib/python3.6/dist-packages (from geemap) (3.2.2)\n",
      "Requirement already satisfied: pillow in /usr/local/lib/python3.6/dist-packages (from geemap) (7.0.0)\n",
      "Collecting voila\n",
      "\u001b[?25l  Downloading https://files.pythonhosted.org/packages/4e/3d/7a669360baf7f9cb3e327b4ec47f56a5e04c102c6c524c07a5dff2fa8552/voila-0.2.6-py3-none-any.whl (1.9MB)\n",
      "\u001b[K     |████████████████████████████████| 1.9MB 49.9MB/s \n",
      "\u001b[?25hCollecting bqplot\n",
      "\u001b[?25l  Downloading https://files.pythonhosted.org/packages/35/d9/0108272437d6319d86352ddbf52c45862bed27c995a45017c12d007d1446/bqplot-0.12.22-py2.py3-none-any.whl (3.3MB)\n",
      "\u001b[K     |████████████████████████████████| 3.3MB 41.5MB/s \n",
      "\u001b[?25hRequirement already satisfied: click in /usr/local/lib/python3.6/dist-packages (from geemap) (7.1.2)\n",
      "Collecting ipyfilechooser\n",
      "  Downloading https://files.pythonhosted.org/packages/21/30/8a2309b89c2225adda85b232ebb1aa94efc78cb9db12129ae9c37bf19d49/ipyfilechooser-0.4.2-py3-none-any.whl\n",
      "Requirement already satisfied: numpy in /usr/local/lib/python3.6/dist-packages (from geemap) (1.19.5)\n",
      "Collecting pyshp\n",
      "\u001b[?25l  Downloading https://files.pythonhosted.org/packages/38/85/fbf87e7aa55103e0d06af756bdbc15cf821fa580414c23142d60a35d4f85/pyshp-2.1.3.tar.gz (219kB)\n",
      "\u001b[K     |████████████████████████████████| 225kB 54.4MB/s \n",
      "\u001b[?25hCollecting geeadd>=0.5.1\n",
      "  Downloading https://files.pythonhosted.org/packages/b7/c8/9725d6bf0cfe8c314ba5d4728e4e473f968814e5697c343fd08881e1c9d4/geeadd-0.5.3-py3-none-any.whl\n",
      "Collecting geocoder\n",
      "\u001b[?25l  Downloading https://files.pythonhosted.org/packages/4f/6b/13166c909ad2f2d76b929a4227c952630ebaf0d729f6317eb09cbceccbab/geocoder-1.38.1-py2.py3-none-any.whl (98kB)\n",
      "\u001b[K     |████████████████████████████████| 102kB 10.2MB/s \n",
      "\u001b[?25hCollecting ffmpeg-python\n",
      "  Downloading https://files.pythonhosted.org/packages/d7/0c/56be52741f75bad4dc6555991fabd2e07b432d333da82c11ad701123888a/ffmpeg_python-0.2.0-py3-none-any.whl\n",
      "Requirement already satisfied: ipywidgets>=7.0.0 in /usr/local/lib/python3.6/dist-packages (from ipyevents->geemap) (7.6.3)\n",
      "Collecting whitebox\n",
      "\u001b[?25l  Downloading https://files.pythonhosted.org/packages/9e/80/72ddfe55b9fad2909c3befb6360c38b6bf5fb131197c390d01109aaaa6f8/whitebox-1.4.0-py2.py3-none-any.whl (63kB)\n",
      "\u001b[K     |████████████████████████████████| 71kB 7.9MB/s \n",
      "\u001b[?25hRequirement already satisfied: google-api-python-client in /usr/local/lib/python3.6/dist-packages (from earthengine-api>=0.1.230->geemap) (1.7.12)\n",
      "Requirement already satisfied: google-auth-httplib2>=0.0.3 in /usr/local/lib/python3.6/dist-packages (from earthengine-api>=0.1.230->geemap) (0.0.4)\n",
      "Requirement already satisfied: httplib2<1dev,>=0.9.2 in /usr/local/lib/python3.6/dist-packages (from earthengine-api>=0.1.230->geemap) (0.17.4)\n",
      "Requirement already satisfied: httplib2shim in /usr/local/lib/python3.6/dist-packages (from earthengine-api>=0.1.230->geemap) (0.0.3)\n",
      "Requirement already satisfied: six in /usr/local/lib/python3.6/dist-packages (from earthengine-api>=0.1.230->geemap) (1.15.0)\n",
      "Requirement already satisfied: google-auth>=1.4.1 in /usr/local/lib/python3.6/dist-packages (from earthengine-api>=0.1.230->geemap) (1.25.0)\n",
      "Requirement already satisfied: future in /usr/local/lib/python3.6/dist-packages (from earthengine-api>=0.1.230->geemap) (0.16.0)\n",
      "Requirement already satisfied: google-cloud-storage in /usr/local/lib/python3.6/dist-packages (from earthengine-api>=0.1.230->geemap) (1.18.1)\n",
      "Requirement already satisfied: jinja2>=2.9 in /usr/local/lib/python3.6/dist-packages (from folium>=0.11.0->geemap) (2.11.3)\n",
      "Requirement already satisfied: requests in /usr/local/lib/python3.6/dist-packages (from folium>=0.11.0->geemap) (2.23.0)\n",
      "Requirement already satisfied: branca>=0.3.0 in /usr/local/lib/python3.6/dist-packages (from folium>=0.11.0->geemap) (0.4.2)\n",
      "Collecting traittypes<3,>=0.2.1\n",
      "  Downloading https://files.pythonhosted.org/packages/9c/d1/8d5bd662703cc1764d986f6908a608777305946fa634d34c470cd4a1e729/traittypes-0.2.1-py2.py3-none-any.whl\n",
      "Requirement already satisfied: python-dateutil>=2.7.3 in /usr/local/lib/python3.6/dist-packages (from pandas->geemap) (2.8.1)\n",
      "Requirement already satisfied: pytz>=2017.2 in /usr/local/lib/python3.6/dist-packages (from pandas->geemap) (2018.9)\n",
      "Requirement already satisfied: cycler>=0.10 in /usr/local/lib/python3.6/dist-packages (from matplotlib->geemap) (0.10.0)\n",
      "Requirement already satisfied: pyparsing!=2.0.4,!=2.1.2,!=2.1.6,>=2.0.1 in /usr/local/lib/python3.6/dist-packages (from matplotlib->geemap) (2.4.7)\n",
      "Requirement already satisfied: kiwisolver>=1.0.1 in /usr/local/lib/python3.6/dist-packages (from matplotlib->geemap) (1.3.1)\n",
      "Collecting jupyter-server<2.0.0,>=0.3.0\n",
      "\u001b[?25l  Downloading https://files.pythonhosted.org/packages/32/e9/924ae8b645ab12799de625d561ca9d47b617509cf7cf04e88d1bac3b08ec/jupyter_server-1.3.0-py3-none-any.whl (188kB)\n",
      "\u001b[K     |████████████████████████████████| 194kB 47.1MB/s \n",
      "\u001b[?25hCollecting nbconvert<7,>=6.0.0\n",
      "\u001b[?25l  Downloading https://files.pythonhosted.org/packages/13/2f/acbe7006548f3914456ee47f97a2033b1b2f3daf921b12ac94105d87c163/nbconvert-6.0.7-py3-none-any.whl (552kB)\n",
      "\u001b[K     |████████████████████████████████| 552kB 35.3MB/s \n",
      "\u001b[?25hRequirement already satisfied: nbclient<0.6,>=0.4.0 in /usr/local/lib/python3.6/dist-packages (from voila->geemap) (0.5.2)\n",
      "Collecting jupyter-client<7,>=6.1.3\n",
      "\u001b[?25l  Downloading https://files.pythonhosted.org/packages/83/d6/30aed7ef13ff3f359e99626c1b0a32ebbc3bf9b9d5616ec46e9e245d5fa9/jupyter_client-6.1.11-py3-none-any.whl (108kB)\n",
      "\u001b[K     |████████████████████████████████| 112kB 46.2MB/s \n",
      "\u001b[?25hRequirement already satisfied: traitlets>=4.3.0 in /usr/local/lib/python3.6/dist-packages (from bqplot->geemap) (4.3.3)\n",
      "Collecting beautifulsoup4>=4.9.0\n",
      "\u001b[?25l  Downloading https://files.pythonhosted.org/packages/d1/41/e6495bd7d3781cee623ce23ea6ac73282a373088fcd0ddc809a047b18eae/beautifulsoup4-4.9.3-py3-none-any.whl (115kB)\n",
      "\u001b[K     |████████████████████████████████| 122kB 54.8MB/s \n",
      "\u001b[?25hCollecting logzero>=1.5.0\n",
      "  Downloading https://files.pythonhosted.org/packages/7e/f7/369920be5b4e9c1a05f5e10bae62b1eca4e01b0b235541865ff53f4d2b6a/logzero-1.6.3-py2.py3-none-any.whl\n",
      "Collecting ratelim\n",
      "  Downloading https://files.pythonhosted.org/packages/f2/98/7e6d147fd16a10a5f821db6e25f192265d6ecca3d82957a4fdd592cad49c/ratelim-0.1.6-py2.py3-none-any.whl\n",
      "Requirement already satisfied: nbformat>=4.2.0 in /usr/local/lib/python3.6/dist-packages (from ipywidgets>=7.0.0->ipyevents->geemap) (5.1.2)\n",
      "Requirement already satisfied: ipython>=4.0.0; python_version >= \"3.3\" in /usr/local/lib/python3.6/dist-packages (from ipywidgets>=7.0.0->ipyevents->geemap) (5.5.0)\n",
      "Requirement already satisfied: ipykernel>=4.5.1 in /usr/local/lib/python3.6/dist-packages (from ipywidgets>=7.0.0->ipyevents->geemap) (4.10.1)\n",
      "Requirement already satisfied: jupyterlab-widgets>=1.0.0; python_version >= \"3.6\" in /usr/local/lib/python3.6/dist-packages (from ipywidgets>=7.0.0->ipyevents->geemap) (1.0.0)\n",
      "Requirement already satisfied: widgetsnbextension~=3.5.0 in /usr/local/lib/python3.6/dist-packages (from ipywidgets>=7.0.0->ipyevents->geemap) (3.5.1)\n",
      "Requirement already satisfied: uritemplate<4dev,>=3.0.0 in /usr/local/lib/python3.6/dist-packages (from google-api-python-client->earthengine-api>=0.1.230->geemap) (3.0.1)\n",
      "Requirement already satisfied: urllib3 in /usr/local/lib/python3.6/dist-packages (from httplib2shim->earthengine-api>=0.1.230->geemap) (1.24.3)\n",
      "Requirement already satisfied: certifi in /usr/local/lib/python3.6/dist-packages (from httplib2shim->earthengine-api>=0.1.230->geemap) (2020.12.5)\n",
      "Requirement already satisfied: setuptools>=40.3.0 in /usr/local/lib/python3.6/dist-packages (from google-auth>=1.4.1->earthengine-api>=0.1.230->geemap) (53.0.0)\n",
      "Requirement already satisfied: cachetools<5.0,>=2.0.0 in /usr/local/lib/python3.6/dist-packages (from google-auth>=1.4.1->earthengine-api>=0.1.230->geemap) (4.2.1)\n",
      "Requirement already satisfied: rsa<5,>=3.1.4; python_version >= \"3.6\" in /usr/local/lib/python3.6/dist-packages (from google-auth>=1.4.1->earthengine-api>=0.1.230->geemap) (4.7)\n",
      "Requirement already satisfied: pyasn1-modules>=0.2.1 in /usr/local/lib/python3.6/dist-packages (from google-auth>=1.4.1->earthengine-api>=0.1.230->geemap) (0.2.8)\n",
      "Requirement already satisfied: google-cloud-core<2.0dev,>=1.0.0 in /usr/local/lib/python3.6/dist-packages (from google-cloud-storage->earthengine-api>=0.1.230->geemap) (1.0.3)\n",
      "Requirement already satisfied: google-resumable-media<0.5.0dev,>=0.3.1 in /usr/local/lib/python3.6/dist-packages (from google-cloud-storage->earthengine-api>=0.1.230->geemap) (0.4.1)\n",
      "Requirement already satisfied: MarkupSafe>=0.23 in /usr/local/lib/python3.6/dist-packages (from jinja2>=2.9->folium>=0.11.0->geemap) (1.1.1)\n",
      "Requirement already satisfied: chardet<4,>=3.0.2 in /usr/local/lib/python3.6/dist-packages (from requests->folium>=0.11.0->geemap) (3.0.4)\n",
      "Requirement already satisfied: idna<3,>=2.5 in /usr/local/lib/python3.6/dist-packages (from requests->folium>=0.11.0->geemap) (2.10)\n",
      "Requirement already satisfied: terminado>=0.8.3 in /usr/local/lib/python3.6/dist-packages (from jupyter-server<2.0.0,>=0.3.0->voila->geemap) (0.9.2)\n",
      "Requirement already satisfied: jupyter-core>=4.4.0 in /usr/local/lib/python3.6/dist-packages (from jupyter-server<2.0.0,>=0.3.0->voila->geemap) (4.7.1)\n",
      "Collecting tornado>=6.1.0\n",
      "\u001b[?25l  Downloading https://files.pythonhosted.org/packages/85/26/e710295dcb4aac62b08f22d07efc899574476db37532159a7f71713cdaf2/tornado-6.1-cp36-cp36m-manylinux2010_x86_64.whl (427kB)\n",
      "\u001b[K     |████████████████████████████████| 430kB 43.7MB/s \n",
      "\u001b[?25hRequirement already satisfied: ipython-genutils in /usr/local/lib/python3.6/dist-packages (from jupyter-server<2.0.0,>=0.3.0->voila->geemap) (0.2.0)\n",
      "Collecting anyio>=2.0.2\n",
      "\u001b[?25l  Downloading https://files.pythonhosted.org/packages/b4/e5/a5aaca991a72839ea76162e81b48377db444d9ab3d32ccdaa267417ce0e9/anyio-2.1.0-py3-none-any.whl (64kB)\n",
      "\u001b[K     |████████████████████████████████| 71kB 8.0MB/s \n",
      "\u001b[?25hRequirement already satisfied: pyzmq>=17 in /usr/local/lib/python3.6/dist-packages (from jupyter-server<2.0.0,>=0.3.0->voila->geemap) (22.0.2)\n",
      "Requirement already satisfied: prometheus-client in /usr/local/lib/python3.6/dist-packages (from jupyter-server<2.0.0,>=0.3.0->voila->geemap) (0.9.0)\n",
      "Requirement already satisfied: Send2Trash in /usr/local/lib/python3.6/dist-packages (from jupyter-server<2.0.0,>=0.3.0->voila->geemap) (1.5.0)\n",
      "Requirement already satisfied: pandocfilters>=1.4.1 in /usr/local/lib/python3.6/dist-packages (from nbconvert<7,>=6.0.0->voila->geemap) (1.4.3)\n",
      "Requirement already satisfied: defusedxml in /usr/local/lib/python3.6/dist-packages (from nbconvert<7,>=6.0.0->voila->geemap) (0.6.0)\n",
      "Requirement already satisfied: mistune<2,>=0.8.1 in /usr/local/lib/python3.6/dist-packages (from nbconvert<7,>=6.0.0->voila->geemap) (0.8.4)\n",
      "Requirement already satisfied: entrypoints>=0.2.2 in /usr/local/lib/python3.6/dist-packages (from nbconvert<7,>=6.0.0->voila->geemap) (0.3)\n",
      "Requirement already satisfied: testpath in /usr/local/lib/python3.6/dist-packages (from nbconvert<7,>=6.0.0->voila->geemap) (0.4.4)\n",
      "Requirement already satisfied: bleach in /usr/local/lib/python3.6/dist-packages (from nbconvert<7,>=6.0.0->voila->geemap) (3.3.0)\n",
      "Requirement already satisfied: jupyterlab-pygments in /usr/local/lib/python3.6/dist-packages (from nbconvert<7,>=6.0.0->voila->geemap) (0.1.2)\n",
      "Requirement already satisfied: pygments>=2.4.1 in /usr/local/lib/python3.6/dist-packages (from nbconvert<7,>=6.0.0->voila->geemap) (2.6.1)\n",
      "Requirement already satisfied: nest-asyncio in /usr/local/lib/python3.6/dist-packages (from nbclient<0.6,>=0.4.0->voila->geemap) (1.5.1)\n",
      "Requirement already satisfied: async-generator in /usr/local/lib/python3.6/dist-packages (from nbclient<0.6,>=0.4.0->voila->geemap) (1.10)\n",
      "Requirement already satisfied: decorator in /usr/local/lib/python3.6/dist-packages (from traitlets>=4.3.0->bqplot->geemap) (4.4.2)\n",
      "Collecting soupsieve>1.2; python_version >= \"3.0\"\n",
      "  Downloading https://files.pythonhosted.org/packages/41/e7/3617a4b988ed7744743fb0dbba5aa0a6e3f95a9557b43f8c4740d296b48a/soupsieve-2.2-py3-none-any.whl\n",
      "Requirement already satisfied: jsonschema!=2.5.0,>=2.4 in /usr/local/lib/python3.6/dist-packages (from nbformat>=4.2.0->ipywidgets>=7.0.0->ipyevents->geemap) (2.6.0)\n",
      "Requirement already satisfied: simplegeneric>0.8 in /usr/local/lib/python3.6/dist-packages (from ipython>=4.0.0; python_version >= \"3.3\"->ipywidgets>=7.0.0->ipyevents->geemap) (0.8.1)\n",
      "Requirement already satisfied: prompt-toolkit<2.0.0,>=1.0.4 in /usr/local/lib/python3.6/dist-packages (from ipython>=4.0.0; python_version >= \"3.3\"->ipywidgets>=7.0.0->ipyevents->geemap) (1.0.18)\n",
      "Requirement already satisfied: pickleshare in /usr/local/lib/python3.6/dist-packages (from ipython>=4.0.0; python_version >= \"3.3\"->ipywidgets>=7.0.0->ipyevents->geemap) (0.7.5)\n",
      "Requirement already satisfied: pexpect; sys_platform != \"win32\" in /usr/local/lib/python3.6/dist-packages (from ipython>=4.0.0; python_version >= \"3.3\"->ipywidgets>=7.0.0->ipyevents->geemap) (4.8.0)\n",
      "Requirement already satisfied: notebook>=4.4.1 in /usr/local/lib/python3.6/dist-packages (from widgetsnbextension~=3.5.0->ipywidgets>=7.0.0->ipyevents->geemap) (5.3.1)\n",
      "Requirement already satisfied: pyasn1>=0.1.3 in /usr/local/lib/python3.6/dist-packages (from rsa<5,>=3.1.4; python_version >= \"3.6\"->google-auth>=1.4.1->earthengine-api>=0.1.230->geemap) (0.4.8)\n",
      "Requirement already satisfied: google-api-core<2.0.0dev,>=1.14.0 in /usr/local/lib/python3.6/dist-packages (from google-cloud-core<2.0dev,>=1.0.0->google-cloud-storage->earthengine-api>=0.1.230->geemap) (1.16.0)\n",
      "Requirement already satisfied: ptyprocess; os_name != \"nt\" in /usr/local/lib/python3.6/dist-packages (from terminado>=0.8.3->jupyter-server<2.0.0,>=0.3.0->voila->geemap) (0.7.0)\n",
      "Collecting sniffio>=1.1\n",
      "  Downloading https://files.pythonhosted.org/packages/52/b0/7b2e028b63d092804b6794595871f936aafa5e9322dcaaad50ebf67445b3/sniffio-1.2.0-py3-none-any.whl\n",
      "Requirement already satisfied: typing-extensions; python_version < \"3.8\" in /usr/local/lib/python3.6/dist-packages (from anyio>=2.0.2->jupyter-server<2.0.0,>=0.3.0->voila->geemap) (3.7.4.3)\n",
      "Requirement already satisfied: dataclasses; python_version < \"3.7\" in /usr/local/lib/python3.6/dist-packages (from anyio>=2.0.2->jupyter-server<2.0.0,>=0.3.0->voila->geemap) (0.8)\n",
      "Requirement already satisfied: packaging in /usr/local/lib/python3.6/dist-packages (from bleach->nbconvert<7,>=6.0.0->voila->geemap) (20.9)\n",
      "Requirement already satisfied: webencodings in /usr/local/lib/python3.6/dist-packages (from bleach->nbconvert<7,>=6.0.0->voila->geemap) (0.5.1)\n",
      "Requirement already satisfied: wcwidth in /usr/local/lib/python3.6/dist-packages (from prompt-toolkit<2.0.0,>=1.0.4->ipython>=4.0.0; python_version >= \"3.3\"->ipywidgets>=7.0.0->ipyevents->geemap) (0.2.5)\n",
      "Requirement already satisfied: googleapis-common-protos<2.0dev,>=1.6.0 in /usr/local/lib/python3.6/dist-packages (from google-api-core<2.0.0dev,>=1.14.0->google-cloud-core<2.0dev,>=1.0.0->google-cloud-storage->earthengine-api>=0.1.230->geemap) (1.52.0)\n",
      "Requirement already satisfied: protobuf>=3.4.0 in /usr/local/lib/python3.6/dist-packages (from google-api-core<2.0.0dev,>=1.14.0->google-cloud-core<2.0dev,>=1.0.0->google-cloud-storage->earthengine-api>=0.1.230->geemap) (3.12.4)\n",
      "Collecting contextvars>=2.1; python_version < \"3.7\"\n",
      "  Downloading https://files.pythonhosted.org/packages/83/96/55b82d9f13763be9d672622e1b8106c85acb83edd7cc2fa5bc67cd9877e9/contextvars-2.4.tar.gz\n",
      "Collecting immutables>=0.9\n",
      "\u001b[?25l  Downloading https://files.pythonhosted.org/packages/4a/52/e64a14a99c509cbdfe0405e9f076aef0331cb9548a3efa1d5bacd524978a/immutables-0.15-cp36-cp36m-manylinux1_x86_64.whl (100kB)\n",
      "\u001b[K     |████████████████████████████████| 102kB 10.6MB/s \n",
      "\u001b[?25hBuilding wheels for collected packages: pycrs, ipynb-py-convert, pyshp, contextvars\n",
      "  Building wheel for pycrs (setup.py) ... \u001b[?25l\u001b[?25hdone\n",
      "  Created wheel for pycrs: filename=PyCRS-1.0.2-cp36-none-any.whl size=32684 sha256=b992d64374aea8a31fd7693400c4e192d7aef4ceb9edc8231d0ec216708cb570\n",
      "  Stored in directory: /root/.cache/pip/wheels/1a/c9/56/648f762bd41fdb03454be51b8a7069795925168833cb61f316\n",
      "  Building wheel for ipynb-py-convert (setup.py) ... \u001b[?25l\u001b[?25hdone\n",
      "  Created wheel for ipynb-py-convert: filename=ipynb_py_convert-0.4.6-cp36-none-any.whl size=4625 sha256=0fc13b2a59a5812e95c3035c3e188080738d72263e8caf0099697367cda94259\n",
      "  Stored in directory: /root/.cache/pip/wheels/80/dc/7c/a7279f7726d66951fe48d5afd45247bcf5bf92c98282e4e78e\n",
      "  Building wheel for pyshp (setup.py) ... \u001b[?25l\u001b[?25hdone\n",
      "  Created wheel for pyshp: filename=pyshp-2.1.3-cp36-none-any.whl size=37264 sha256=d38c3ab2c5047aa6a2ac740524a26ee3e43f49ba86012cf6967b0f3650c7109e\n",
      "  Stored in directory: /root/.cache/pip/wheels/76/2b/d4/53e6b9a0fb0a9f9f29664cf82605af8bc81d5ab44d987896dd\n",
      "  Building wheel for contextvars (setup.py) ... \u001b[?25l\u001b[?25hdone\n",
      "  Created wheel for contextvars: filename=contextvars-2.4-cp36-none-any.whl size=7667 sha256=c78f96184dbd62d4adb670d81f2793c769e0b08edb52bbeed0e30dbd36bd6da6\n",
      "  Stored in directory: /root/.cache/pip/wheels/a5/7d/68/1ebae2668bda2228686e3c1cf16f2c2384cea6e9334ad5f6de\n",
      "Successfully built pycrs ipynb-py-convert pyshp contextvars\n",
      "\u001b[31mERROR: google-colab 1.0.0 has requirement tornado~=5.1.0; python_version >= \"3.0\", but you'll have tornado 6.1 which is incompatible.\u001b[0m\n",
      "\u001b[31mERROR: datascience 0.10.6 has requirement folium==0.2.1, but you'll have folium 0.12.1 which is incompatible.\u001b[0m\n",
      "Installing collected packages: ipyevents, ipytree, whitebox, ipyfilechooser, whiteboxgui, pycrs, ipynb-py-convert, mss, colour, folium, traittypes, ipyleaflet, tornado, jupyter-client, immutables, contextvars, sniffio, anyio, nbconvert, jupyter-server, voila, bqplot, pyshp, soupsieve, beautifulsoup4, logzero, geeadd, ratelim, geocoder, ffmpeg-python, geemap\n",
      "  Found existing installation: folium 0.8.3\n",
      "    Uninstalling folium-0.8.3:\n",
      "      Successfully uninstalled folium-0.8.3\n",
      "  Found existing installation: tornado 5.1.1\n",
      "    Uninstalling tornado-5.1.1:\n",
      "      Successfully uninstalled tornado-5.1.1\n",
      "  Found existing installation: jupyter-client 5.3.5\n",
      "    Uninstalling jupyter-client-5.3.5:\n",
      "      Successfully uninstalled jupyter-client-5.3.5\n",
      "  Found existing installation: nbconvert 5.6.1\n",
      "    Uninstalling nbconvert-5.6.1:\n",
      "      Successfully uninstalled nbconvert-5.6.1\n",
      "  Found existing installation: beautifulsoup4 4.6.3\n",
      "    Uninstalling beautifulsoup4-4.6.3:\n",
      "      Successfully uninstalled beautifulsoup4-4.6.3\n",
      "Successfully installed anyio-2.1.0 beautifulsoup4-4.9.3 bqplot-0.12.22 colour-0.1.5 contextvars-2.4 ffmpeg-python-0.2.0 folium-0.12.1 geeadd-0.5.3 geemap-0.8.10 geocoder-1.38.1 immutables-0.15 ipyevents-0.8.2 ipyfilechooser-0.4.2 ipyleaflet-0.13.3 ipynb-py-convert-0.4.6 ipytree-0.1.8 jupyter-client-6.1.11 jupyter-server-1.3.0 logzero-1.6.3 mss-6.1.0 nbconvert-6.0.7 pycrs-1.0.2 pyshp-2.1.3 ratelim-0.1.6 sniffio-1.2.0 soupsieve-2.2 tornado-6.1 traittypes-0.2.1 voila-0.2.6 whitebox-1.4.0 whiteboxgui-0.1.9\n"
     ]
    },
    {
     "data": {
      "application/vnd.colab-display-data+json": {
       "pip_warning": {
        "packages": [
         "folium",
         "jupyter_client",
         "tornado"
        ]
       }
      }
     },
     "metadata": {
      "tags": []
     },
     "output_type": "display_data"
    },
    {
     "ename": "ImportError",
     "evalue": "ignored",
     "output_type": "error",
     "traceback": [
      "\u001b[0;31m---------------------------------------------------------------------------\u001b[0m",
      "\u001b[0;31mImportError\u001b[0m                               Traceback (most recent call last)",
      "\u001b[0;32m<ipython-input-2-5400d46703a5>\u001b[0m in \u001b[0;36m<module>\u001b[0;34m()\u001b[0m\n\u001b[1;32m      3\u001b[0m \u001b[0;32mimport\u001b[0m \u001b[0mfolium\u001b[0m\u001b[0;34m\u001b[0m\u001b[0;34m\u001b[0m\u001b[0m\n\u001b[1;32m      4\u001b[0m \u001b[0mget_ipython\u001b[0m\u001b[0;34m(\u001b[0m\u001b[0;34m)\u001b[0m\u001b[0;34m.\u001b[0m\u001b[0msystem\u001b[0m\u001b[0;34m(\u001b[0m\u001b[0;34m'pip install geemap'\u001b[0m\u001b[0;34m)\u001b[0m\u001b[0;34m\u001b[0m\u001b[0;34m\u001b[0m\u001b[0m\n\u001b[0;32m----> 5\u001b[0;31m \u001b[0;32mimport\u001b[0m \u001b[0mgeemap\u001b[0m\u001b[0;34m\u001b[0m\u001b[0;34m\u001b[0m\u001b[0m\n\u001b[0m\u001b[1;32m      6\u001b[0m \u001b[0;34m\u001b[0m\u001b[0m\n\u001b[1;32m      7\u001b[0m \u001b[0mee\u001b[0m\u001b[0;34m.\u001b[0m\u001b[0mInitialize\u001b[0m\u001b[0;34m(\u001b[0m\u001b[0;34m)\u001b[0m\u001b[0;34m\u001b[0m\u001b[0;34m\u001b[0m\u001b[0m\n",
      "\u001b[0;32m/usr/local/lib/python3.6/dist-packages/geemap/__init__.py\u001b[0m in \u001b[0;36m<module>\u001b[0;34m()\u001b[0m\n\u001b[1;32m     24\u001b[0m \u001b[0;34m\u001b[0m\u001b[0m\n\u001b[1;32m     25\u001b[0m \u001b[0;32mif\u001b[0m \u001b[0min_colab_shell\u001b[0m\u001b[0;34m(\u001b[0m\u001b[0;34m)\u001b[0m\u001b[0;34m:\u001b[0m\u001b[0;34m\u001b[0m\u001b[0;34m\u001b[0m\u001b[0m\n\u001b[0;32m---> 26\u001b[0;31m     \u001b[0;32mfrom\u001b[0m \u001b[0;34m.\u001b[0m\u001b[0meefolium\u001b[0m \u001b[0;32mimport\u001b[0m \u001b[0;34m*\u001b[0m\u001b[0;34m\u001b[0m\u001b[0;34m\u001b[0m\u001b[0m\n\u001b[0m\u001b[1;32m     27\u001b[0m \u001b[0;32melse\u001b[0m\u001b[0;34m:\u001b[0m\u001b[0;34m\u001b[0m\u001b[0;34m\u001b[0m\u001b[0m\n\u001b[1;32m     28\u001b[0m     \u001b[0;32mfrom\u001b[0m \u001b[0;34m.\u001b[0m\u001b[0mgeemap\u001b[0m \u001b[0;32mimport\u001b[0m \u001b[0;34m*\u001b[0m\u001b[0;34m\u001b[0m\u001b[0;34m\u001b[0m\u001b[0m\n",
      "\u001b[0;32m/usr/local/lib/python3.6/dist-packages/geemap/eefolium.py\u001b[0m in \u001b[0;36m<module>\u001b[0;34m()\u001b[0m\n\u001b[1;32m      4\u001b[0m \u001b[0;32mimport\u001b[0m \u001b[0mee\u001b[0m\u001b[0;34m\u001b[0m\u001b[0;34m\u001b[0m\u001b[0m\n\u001b[1;32m      5\u001b[0m \u001b[0;32mimport\u001b[0m \u001b[0mfolium\u001b[0m\u001b[0;34m\u001b[0m\u001b[0;34m\u001b[0m\u001b[0m\n\u001b[0;32m----> 6\u001b[0;31m \u001b[0;32mfrom\u001b[0m \u001b[0mfolium\u001b[0m \u001b[0;32mimport\u001b[0m \u001b[0mplugins\u001b[0m\u001b[0;34m\u001b[0m\u001b[0;34m\u001b[0m\u001b[0m\n\u001b[0m\u001b[1;32m      7\u001b[0m \u001b[0;32mfrom\u001b[0m \u001b[0;34m.\u001b[0m\u001b[0mcommon\u001b[0m \u001b[0;32mimport\u001b[0m \u001b[0;34m*\u001b[0m\u001b[0;34m\u001b[0m\u001b[0;34m\u001b[0m\u001b[0m\n\u001b[1;32m      8\u001b[0m \u001b[0;32mfrom\u001b[0m \u001b[0;34m.\u001b[0m\u001b[0mconversion\u001b[0m \u001b[0;32mimport\u001b[0m \u001b[0;34m*\u001b[0m\u001b[0;34m\u001b[0m\u001b[0;34m\u001b[0m\u001b[0m\n",
      "\u001b[0;32m/usr/local/lib/python3.6/dist-packages/folium/plugins/__init__.py\u001b[0m in \u001b[0;36m<module>\u001b[0;34m()\u001b[0m\n\u001b[1;32m      9\u001b[0m \"\"\"\n\u001b[1;32m     10\u001b[0m \u001b[0;34m\u001b[0m\u001b[0m\n\u001b[0;32m---> 11\u001b[0;31m \u001b[0;32mfrom\u001b[0m \u001b[0mfolium\u001b[0m\u001b[0;34m.\u001b[0m\u001b[0mplugins\u001b[0m\u001b[0;34m.\u001b[0m\u001b[0mantpath\u001b[0m \u001b[0;32mimport\u001b[0m \u001b[0mAntPath\u001b[0m\u001b[0;34m\u001b[0m\u001b[0;34m\u001b[0m\u001b[0m\n\u001b[0m\u001b[1;32m     12\u001b[0m \u001b[0;32mfrom\u001b[0m \u001b[0mfolium\u001b[0m\u001b[0;34m.\u001b[0m\u001b[0mplugins\u001b[0m\u001b[0;34m.\u001b[0m\u001b[0mpolyline_offset\u001b[0m \u001b[0;32mimport\u001b[0m \u001b[0mPolyLineOffset\u001b[0m\u001b[0;34m\u001b[0m\u001b[0;34m\u001b[0m\u001b[0m\n\u001b[1;32m     13\u001b[0m \u001b[0;32mfrom\u001b[0m \u001b[0mfolium\u001b[0m\u001b[0;34m.\u001b[0m\u001b[0mplugins\u001b[0m\u001b[0;34m.\u001b[0m\u001b[0mbeautify_icon\u001b[0m \u001b[0;32mimport\u001b[0m \u001b[0mBeautifyIcon\u001b[0m\u001b[0;34m\u001b[0m\u001b[0;34m\u001b[0m\u001b[0m\n",
      "\u001b[0;32m/usr/local/lib/python3.6/dist-packages/folium/plugins/antpath.py\u001b[0m in \u001b[0;36m<module>\u001b[0;34m()\u001b[0m\n\u001b[1;32m      2\u001b[0m \u001b[0;34m\u001b[0m\u001b[0m\n\u001b[1;32m      3\u001b[0m \u001b[0;32mfrom\u001b[0m \u001b[0mfolium\u001b[0m\u001b[0;34m.\u001b[0m\u001b[0melements\u001b[0m \u001b[0;32mimport\u001b[0m \u001b[0mJSCSSMixin\u001b[0m\u001b[0;34m\u001b[0m\u001b[0;34m\u001b[0m\u001b[0m\n\u001b[0;32m----> 4\u001b[0;31m \u001b[0;32mfrom\u001b[0m \u001b[0mfolium\u001b[0m\u001b[0;34m.\u001b[0m\u001b[0mvector_layers\u001b[0m \u001b[0;32mimport\u001b[0m \u001b[0mpath_options\u001b[0m\u001b[0;34m,\u001b[0m \u001b[0mBaseMultiLocation\u001b[0m\u001b[0;34m\u001b[0m\u001b[0;34m\u001b[0m\u001b[0m\n\u001b[0m\u001b[1;32m      5\u001b[0m \u001b[0;34m\u001b[0m\u001b[0m\n\u001b[1;32m      6\u001b[0m \u001b[0;32mfrom\u001b[0m \u001b[0mjinja2\u001b[0m \u001b[0;32mimport\u001b[0m \u001b[0mTemplate\u001b[0m\u001b[0;34m\u001b[0m\u001b[0;34m\u001b[0m\u001b[0m\n",
      "\u001b[0;31mImportError\u001b[0m: cannot import name 'BaseMultiLocation'",
      "",
      "\u001b[0;31m---------------------------------------------------------------------------\u001b[0;32m\nNOTE: If your import is failing due to a missing package, you can\nmanually install dependencies using either !pip or !apt.\n\nTo view examples of installing some common dependencies, click the\n\"Open Examples\" button below.\n\u001b[0;31m---------------------------------------------------------------------------\u001b[0m\n"
     ]
    }
   ],
   "source": [
    "import ee\n",
    "import datetime\n",
    "import folium\n",
    "!pip install geemap\n",
    "import geemap\n",
    "\n",
    "ee.Initialize()"
   ]
  },
  {
   "cell_type": "code",
   "execution_count": null,
   "metadata": {
    "id": "vKK3bQUvesHL",
    "outputId": "2a26f877-1d46-4809-f941-7c9490682bbc",
    "pycharm": {
     "is_executing": false
    }
   },
   "outputs": [
    {
     "name": "stdout",
     "output_type": "stream",
     "text": [
      "2020-01-01 00:00:00\n"
     ]
    }
   ],
   "source": [
    "ee_date = ee.Date('2020-01-01')\n",
    "py_date = datetime.datetime.utcfromtimestamp(ee_date.getInfo()['value']/1000.0)\n",
    "print(py_date)"
   ]
  },
  {
   "cell_type": "code",
   "execution_count": null,
   "metadata": {
    "id": "34Pc-xl0esHN",
    "outputId": "5a02a8f5-8fbc-4a8a-ac9f-7a7d989fdcf8",
    "pycharm": {
     "is_executing": false
    },
    "scrolled": true
   },
   "outputs": [
    {
     "name": "stdout",
     "output_type": "stream",
     "text": [
      "ee.Image({\n",
      "  \"functionInvocationValue\": {\n",
      "    \"functionName\": \"Image.load\",\n",
      "    \"arguments\": {\n",
      "      \"id\": {\n",
      "        \"constantValue\": \"users/shehryarsaroya/Medellin_s2\"\n",
      "      }\n",
      "    }\n",
      "  }\n",
      "})\n",
      "{'type': 'Image', 'bands': [{'id': 'b1', 'data_type': {'type': 'PixelType', 'precision': 'int', 'min': 0, 'max': 65535}, 'dimensions': [143, 101], 'crs': 'EPSG:32618', 'crs_transform': [10, 0, 430110, 0, -10, 691490]}, {'id': 'b2', 'data_type': {'type': 'PixelType', 'precision': 'int', 'min': 0, 'max': 65535}, 'dimensions': [143, 101], 'crs': 'EPSG:32618', 'crs_transform': [10, 0, 430110, 0, -10, 691490]}, {'id': 'b3', 'data_type': {'type': 'PixelType', 'precision': 'int', 'min': 0, 'max': 65535}, 'dimensions': [143, 101], 'crs': 'EPSG:32618', 'crs_transform': [10, 0, 430110, 0, -10, 691490]}, {'id': 'b4', 'data_type': {'type': 'PixelType', 'precision': 'int', 'min': 0, 'max': 65535}, 'dimensions': [143, 101], 'crs': 'EPSG:32618', 'crs_transform': [10, 0, 430110, 0, -10, 691490]}, {'id': 'b5', 'data_type': {'type': 'PixelType', 'precision': 'int', 'min': 0, 'max': 65535}, 'dimensions': [143, 101], 'crs': 'EPSG:32618', 'crs_transform': [10, 0, 430110, 0, -10, 691490]}, {'id': 'b6', 'data_type': {'type': 'PixelType', 'precision': 'int', 'min': 0, 'max': 65535}, 'dimensions': [143, 101], 'crs': 'EPSG:32618', 'crs_transform': [10, 0, 430110, 0, -10, 691490]}, {'id': 'b7', 'data_type': {'type': 'PixelType', 'precision': 'int', 'min': 0, 'max': 65535}, 'dimensions': [143, 101], 'crs': 'EPSG:32618', 'crs_transform': [10, 0, 430110, 0, -10, 691490]}, {'id': 'b8', 'data_type': {'type': 'PixelType', 'precision': 'int', 'min': 0, 'max': 65535}, 'dimensions': [143, 101], 'crs': 'EPSG:32618', 'crs_transform': [10, 0, 430110, 0, -10, 691490]}, {'id': 'b9', 'data_type': {'type': 'PixelType', 'precision': 'int', 'min': 0, 'max': 65535}, 'dimensions': [143, 101], 'crs': 'EPSG:32618', 'crs_transform': [10, 0, 430110, 0, -10, 691490]}, {'id': 'b10', 'data_type': {'type': 'PixelType', 'precision': 'int', 'min': 0, 'max': 65535}, 'dimensions': [143, 101], 'crs': 'EPSG:32618', 'crs_transform': [10, 0, 430110, 0, -10, 691490]}], 'version': 1613640628893494, 'id': 'users/shehryarsaroya/Medellin_s2', 'properties': {'system:footprint': {'type': 'LinearRing', 'coordinates': [[-75.6317632408618, 6.246317874947518], [-75.63175196461249, 6.246317168484697], [-75.61891583343612, 6.246332462002584], [-75.61887418756747, 6.246369054391815], [-75.61882819062416, 6.246400246221966], [-75.61882543791089, 6.246414985123733], [-75.6188360935749, 6.255468232518159], [-75.61887285560985, 6.255509686273922], [-75.61890420100919, 6.255555324540257], [-75.61891538945038, 6.255557448048158], [-75.61892666668787, 6.255558155325523], [-75.63176306328307, 6.255542856276521], [-75.6318047054876, 6.255506256724037], [-75.63185060956712, 6.25547505639077], [-75.63185345082495, 6.255460317000291], [-75.63184261852916, 6.246407078689868], [-75.63180577095963, 6.246365629045812], [-75.63177442832088, 6.246319997500351], [-75.6317632408618, 6.246317874947518]]}, 'system:asset_size': 143757}}\n",
      "ee.Image({\n",
      "  \"functionInvocationValue\": {\n",
      "    \"functionName\": \"Image.load\",\n",
      "    \"arguments\": {\n",
      "      \"id\": {\n",
      "        \"constantValue\": \"users/shehryarsaroya/Medellin_ground_truth_s2\"\n",
      "      }\n",
      "    }\n",
      "  }\n",
      "})\n",
      "{'type': 'Image', 'bands': [{'id': 'b1', 'data_type': {'type': 'PixelType', 'precision': 'int', 'min': 0, 'max': 255}, 'dimensions': [143, 101], 'crs': 'EPSG:32618', 'crs_transform': [10, 0, 430104.5074502777, 0, -10, 691497.350715169]}], 'version': 1613640646804555, 'id': 'users/shehryarsaroya/Medellin_ground_truth_s2', 'properties': {'system:footprint': {'type': 'LinearRing', 'coordinates': [[-75.63181296289562, 6.246384348288629], [-75.63180168665014, 6.2463836418232574], [-75.61896555983097, 6.2463988546969], [-75.61892391397645, 6.246435525932105], [-75.61887791704872, 6.2464666389915084], [-75.61887516433639, 6.2464814567165785], [-75.61888581999679, 6.255534715862183], [-75.61892258201927, 6.255576090860556], [-75.61895392740796, 6.255621808007144], [-75.61896511584537, 6.255623852702844], [-75.61897639307902, 6.255624559982755], [-75.63181278531695, 6.255609262767537], [-75.63185442750734, 6.2555726631736315], [-75.63190033157126, 6.255541541627], [-75.63190317282812, 6.255526723397383], [-75.63189234053601, 6.24647355215825], [-75.63185549297899, 6.246432102455064], [-75.63182415035091, 6.246386392037389], [-75.63181296289562, 6.246384348288629]]}, 'system:asset_size': 455}}\n"
     ]
    }
   ],
   "source": [
    "medellin = ee.Image(\"users/shehryarsaroya/Medellin_s2\")\n",
    "medellin_gt = ee.Image(\"users/shehryarsaroya/Medellin_ground_truth_s2\")\n",
    "print(medellin)\n",
    "print(medellin.getInfo())\n",
    "print(medellin_gt)\n",
    "print(medellin_gt.getInfo())"
   ]
  },
  {
   "cell_type": "code",
   "execution_count": null,
   "metadata": {
    "colab": {
     "referenced_widgets": [
      "4f77a8a63a5e42808f87383346c913ce"
     ]
    },
    "id": "nwVMULUAesHN",
    "outputId": "53b0eab5-0570-43c1-b6d7-8aa746781015",
    "pycharm": {
     "is_executing": false
    },
    "scrolled": false
   },
   "outputs": [
    {
     "data": {
      "application/vnd.jupyter.widget-view+json": {
       "model_id": "4f77a8a63a5e42808f87383346c913ce",
       "version_major": 2,
       "version_minor": 0
      },
      "text/plain": [
       "Map(center=[6.2497, -75.58305], controls=(WidgetControl(options=['position'], widget=HBox(children=(ToggleButt…"
      ]
     },
     "metadata": {
      "tags": []
     },
     "output_type": "display_data"
    }
   ],
   "source": [
    "Map = geemap.Map(center=[6.2497,-75.58305], zoom=12)\n",
    "Map"
   ]
  },
  {
   "cell_type": "code",
   "execution_count": null,
   "metadata": {
    "id": "a5s9yF9CesHO",
    "outputId": "c04c9829-1278-4ae4-9900-0ae3cf7046ad"
   },
   "outputs": [
    {
     "name": "stdout",
     "output_type": "stream",
     "text": [
      "{'type': 'FeatureCollection', 'columns': {'count': 'Long<0, 4294967295>', 'informal_settlement': 'Short<0, 255>', 'system:index': 'String'}, 'features': [{'type': 'Feature', 'geometry': {'geodesic': False, 'type': 'Polygon', 'coordinates': [[[-75.63184693929067, 6.246428344560953], [-75.6209091231272, 6.246441364463491], [-75.62090922971834, 6.246531821498477], [-75.62099962500375, 6.246531714825989], [-75.62099973161197, 6.246622171859106], [-75.62109012691133, 6.246622065169533], [-75.62109023353665, 6.246712522200782], [-75.62118062884994, 6.246712415494126], [-75.62118073549235, 6.246802872523506], [-75.62136152614526, 6.246802659060498], [-75.62136131279998, 6.246621745007657], [-75.62145170809303, 6.246621638255978], [-75.62145160140724, 6.2465311812306465], [-75.62172278723044, 6.246530860887126], [-75.62172289396278, 6.246621317907782], [-75.62199407981834, 6.246620997419846], [-75.62199418659881, 6.2467114544355145], [-75.62217497719232, 6.246711240696139], [-75.6221750840054, 6.246801697708376], [-75.62271745584118, 6.246801056108243], [-75.62271756274895, 6.246891513110806], [-75.623259934621, 6.246890870942329], [-75.62325982762015, 6.246800413949136], [-75.62380219934224, 6.246799771231054], [-75.62380209224986, 6.246709314246927], [-75.62452525433328, 6.246708456432487], [-75.62452536154977, 6.246798913404098], [-75.6246157568186, 6.246798806105856], [-75.62461607852416, 6.247070177014117], [-75.62470647383795, 6.247070069695652], [-75.62470658109181, 6.247160526662882], [-75.62479697641953, 6.247160419327322], [-75.6247970836905, 6.247250876292676], [-75.62488747903215, 6.247250768940022], [-75.62488758632023, 6.247341225903495], [-75.62497798167581, 6.247341118533747], [-75.624978088981, 6.247431575495342], [-75.6250684843505, 6.2474314681084975], [-75.62506859167279, 6.247521925068215], [-75.62515898705624, 6.247521817664275], [-75.62515909439563, 6.247612274622114], [-75.62533988518882, 6.2476120597645135], [-75.62533999256082, 6.247702516718903], [-75.62543038797055, 6.247702409265242], [-75.62543049535967, 6.247792866217753], [-75.62642484493279, 6.247791683185287], [-75.62642495249418, 6.247882140120226], [-75.62651534791591, 6.247882032477072], [-75.62651545549443, 6.247972489410128], [-75.62669624636416, 6.247972274074091], [-75.62669635397529, 6.248062731003695], [-75.62850426263326, 6.248060574195268], [-75.62850437055639, 6.248151031093095], [-75.6287755568467, 6.248150707031313], [-75.62877566481798, 6.2482411639240985], [-75.62904685114053, 6.2482408397178135], [-75.62904695915995, 6.24833129660556], [-75.62967972729871, 6.248330539569614], [-75.62967983542836, 6.248420996446003], [-75.62995102179616, 6.248420671764328], [-75.62995112997399, 6.248511128635668], [-75.63004152544225, 6.248511020375802], [-75.63004174183372, 6.2486919341143885], [-75.63013213733143, 6.248691825835832], [-75.63013224554508, 6.248782282703077], [-75.6302226410567, 6.248782174407409], [-75.63022296575382, 6.249053545002534], [-75.63031336131041, 6.2490534366865935], [-75.6303134695615, 6.249143893549431], [-75.63022307398938, 6.249144001866951], [-75.63022339870568, 6.249415372458327], [-75.63031379432435, 6.2494152641360685], [-75.63031390258183, 6.249505720997657], [-75.63040429821446, 6.249505612658284], [-75.63040440648905, 6.24959606951798], [-75.63085638470575, 6.249595527580205], [-75.63085649305957, 6.249685984431684], [-75.6310372843661, 6.249685767544673], [-75.63103739275256, 6.249776224392677], [-75.63112778841895, 6.249776115924287], [-75.63112789682253, 6.249866572770398], [-75.63121829250285, 6.249866464284892], [-75.63121850934589, 6.250047377973009], [-75.63130890505563, 6.250047269468804], [-75.63130901349508, 6.250137726310813], [-75.63058584764799, 6.250138593922122], [-75.63058595596482, 6.250229050776472], [-75.63049556021122, 6.250229159159557], [-75.63049566851413, 6.250319616015172], [-75.63040527274339, 6.250319724384302], [-75.63040548932295, 6.250500638097762], [-75.63031509351958, 6.250500746454516], [-75.63031520179624, 6.250591203312356], [-75.63013441015363, 6.250591419982417], [-75.63013451840084, 6.250681876843104], [-75.6300441225616, 6.250681985156409], [-75.63004401432994, 6.250591528294142], [-75.62995361850464, 6.250591636590331], [-75.62995372672079, 6.250682093454177], [-75.62977293503434, 6.2506823100031035], [-75.62977304322104, 6.250772766869796], [-75.62950185563284, 6.250773091581394], [-75.62950196377454, 6.250863548452509], [-75.62941156789309, 6.250863656660212], [-75.6294114597669, 6.2507731997875196], [-75.62914027215956, 6.250773524312675], [-75.62914038023915, 6.250863981190101], [-75.62904998435131, 6.250864089335655], [-75.62905009241699, 6.250954546214346], [-75.62895969651203, 6.25095465434594], [-75.62895980456376, 6.251045111225893], [-75.62886940864169, 6.251045219343527], [-75.6288695166795, 6.251135676224745], [-75.6287791207403, 6.251135784328418], [-75.62877922876417, 6.2512262412109], [-75.62859843684994, 6.251226457374783], [-75.62859854484435, 6.251316914260107], [-75.62850814886932, 6.2513170223203165], [-75.6285082568498, 6.251407479206901], [-75.62859865284035, 6.251407371145116], [-75.62859876083796, 6.251497828029813], [-75.62868915684246, 6.251497719950913], [-75.628689696932, 6.251950004361835], [-75.62878009301255, 6.251949896259516], [-75.62878020105077, 6.252040353139186], [-75.62914178541915, 6.252039920568206], [-75.62914189352108, 6.252130377441257], [-75.62932268572676, 6.2521301610593705], [-75.62932290199753, 6.2523110747982305], [-75.62941329812904, 6.252310966580821], [-75.62941340628235, 6.2524014234482035], [-75.62950380242779, 6.2524013152136755], [-75.62950391059822, 6.252491772079168], [-75.62941351443725, 6.252491880315273], [-75.62941362259376, 6.252582337182033], [-75.62878084931357, 6.252583094410656], [-75.62878095736295, 6.252673551288141], [-75.62869056115817, 6.252673659403068], [-75.6286906691936, 6.252764116281815], [-75.62878106541393, 6.252764008165311], [-75.62878117346649, 6.252854465042172], [-75.62887156970075, 6.252854356908549], [-75.6288720019891, 6.25321618440656], [-75.62896239828389, 6.25321607625109], [-75.6289625063755, 6.253306533123235], [-75.6294144879032, 6.253305992104851], [-75.62941437973394, 6.253215535240591], [-75.62968556858483, 6.2532152104477765], [-75.62968546037057, 6.253124753587939], [-75.62986625289878, 6.253124536984837], [-75.62986614465503, 6.253034080127844], [-75.63013733338877, 6.2530337551113595], [-75.6301371168129, 6.252852841405914], [-75.63022751302323, 6.25285273303916], [-75.63022772963016, 6.253033646741446], [-75.63077010704492, 6.25303299619557], [-75.63077021544399, 6.2531234530367605], [-75.63131259289437, 6.253122801921861], [-75.63131237591146, 6.252941888258148], [-75.63149316831999, 6.252941671101836], [-75.63149327684171, 6.253032127930683], [-75.63167406927491, 6.253031910709036], [-75.63167439494285, 6.253303281184205], [-75.63149360241646, 6.253303498415351], [-75.63149349388995, 6.253213041587441], [-75.63104151262364, 6.253213584385388], [-75.63104162107248, 6.25330404122121], [-75.63095122479889, 6.253304149735753], [-75.63095133323381, 6.253394606572843], [-75.63104172952295, 6.2533944980567195], [-75.631041837975, 6.253484954891917], [-75.63086104536407, 6.253485171911784], [-75.6308608285237, 6.253304258234752], [-75.63068003596851, 6.25330447518612], [-75.63068014435683, 6.2533949320279545], [-75.63049935176419, 6.253395148920311], [-75.63049946012303, 6.253485605764995], [-75.63040906380877, 6.253485714189439], [-75.63040928050022, 6.253666627881031], [-75.63059007318927, 6.253666411010278], [-75.63059028994924, 6.2538473246942985], [-75.63068068632244, 6.253847216232443], [-75.63068079472035, 6.253937673072404], [-75.63077119110748, 6.253937564593424], [-75.63077129952252, 6.254028021431491], [-75.63122328151186, 6.25402747879551], [-75.63122339000618, 6.254117935625356], [-75.63131378641478, 6.254117827049942], [-75.63131389492625, 6.254208283877892], [-75.63122349850211, 6.254208392454889], [-75.63122371549876, 6.254389306113017], [-75.63113331904195, 6.254389414677633], [-75.63113342752713, 6.254479871507811], [-75.6310430310532, 6.254479980058462], [-75.63104324799731, 6.254660893721045], [-75.63095285149069, 6.254661002259313], [-75.63095263457765, 6.254480088593566], [-75.6308622381005, 6.254480197113125], [-75.63086212966194, 6.254389740278202], [-75.63077173319873, 6.254389848780634], [-75.63077162477728, 6.2542993919438175], [-75.63068122832802, 6.254299500429122], [-75.63068144514143, 6.254480414105604], [-75.63077184162178, 6.254480305617138], [-75.63077195004641, 6.254570762453331], [-75.6308623465407, 6.254570653947736], [-75.63086256342586, 6.254751567616021], [-75.63068177037356, 6.254751784617985], [-75.63068187878746, 6.254842241454822], [-75.63077227532995, 6.254842132960032], [-75.630772383761, 6.254932589794974], [-75.63086278031741, 6.2549324812830545], [-75.6308633225743, 6.25538476544517], [-75.63059213266718, 6.255385090958001], [-75.63059224107674, 6.255475547794229], [-75.63023065444936, 6.2554759815999805], [-75.63023054610194, 6.25538552475743], [-75.63014014945665, 6.255385633168417], [-75.63014004112638, 6.255295176323975], [-75.63004964449503, 6.255295284717834], [-75.63004942787035, 6.2551143710248525], [-75.62995903126846, 6.255114479400004], [-75.62995892297405, 6.255024022551466], [-75.62986852638612, 6.255024130909491], [-75.62986841810886, 6.25493367405906], [-75.62977802153483, 6.2549337823999585], [-75.62977780501616, 6.254752868695004], [-75.62968740847164, 6.254752977017197], [-75.62968730023024, 6.254662520162673], [-75.62959690369965, 6.254662628467742], [-75.62959679547538, 6.254572171611326], [-75.62950639895874, 6.25457227989927], [-75.62950618254605, 6.254391366182343], [-75.62959657903161, 6.254391257897556], [-75.62959647081213, 6.254300801040203], [-75.62923488492241, 6.254301234079765], [-75.62923499307975, 6.25439169094343], [-75.6291445965878, 6.254391799166033], [-75.62914481287619, 6.2545727128955795], [-75.62887362329755, 6.254573037479574], [-75.62887351519916, 6.254482580610227], [-75.62878311868529, 6.254482688772223], [-75.62878301060404, 6.254392231900987], [-75.62860221760258, 6.254392448175188], [-75.62860210955398, 6.254301991300488], [-75.62869250603997, 6.254301883172737], [-75.62869218185715, 6.254030512551488], [-75.62860178541776, 6.254030620674512], [-75.62860167737553, 6.253940163798561], [-75.62824009166421, 6.253940596128905], [-75.6282401996443, 6.254031053011157], [-75.62805940674801, 6.254031269086209], [-75.62805951469862, 6.254121725971297], [-75.62796911823256, 6.25412183398708], [-75.62796922616921, 6.254212290873429], [-75.62787882968603, 6.25421239887524], [-75.62787915345896, 6.254483769537138], [-75.62778875692757, 6.254483877528124], [-75.62778897275308, 6.254664791304309], [-75.62769857618902, 6.254664899282897], [-75.62769868408863, 6.254755356172092], [-75.62760828750744, 6.254755464136707], [-75.62760839539311, 6.254845921027165], [-75.6275179987948, 6.2548460289778065], [-75.6275182145398, 6.25502694276093], [-75.62742781790884, 6.255027050699169], [-75.62742792576819, 6.255117507591835], [-75.6272471324704, 6.255117723424816], [-75.62724724030028, 6.255208180320316], [-75.62688565362345, 6.255208611805992], [-75.62688576139276, 6.255299068707466], [-75.62625298453837, 6.2552998232197945], [-75.62625287687783, 6.2552093663073265], [-75.62571049674821, 6.25521001241638], [-75.62571038918247, 6.255119555494183], [-75.62543919914287, 6.255119878334106], [-75.62543909162532, 6.255029421406894], [-75.62534869495784, 6.255029528987538], [-75.62534826496568, 6.25466770126929], [-75.62489628191511, 6.254668238907956], [-75.62489606708392, 6.2544873250312865], [-75.62480567050014, 6.254487432509247], [-75.62480534831181, 6.254216061687201], [-75.62471495177304, 6.254216169144916], [-75.62471484439564, 6.254125712202043], [-75.62462444787083, 6.254125819642647], [-75.62462434051055, 6.254035362697896], [-75.62444354748722, 6.254035577529337], [-75.6244434401596, 6.253945120581141], [-75.62453383665651, 6.25394501317476], [-75.62453372931493, 6.253854556227818], [-75.62462412579474, 6.253854448807457], [-75.6246240184392, 6.253763991861766], [-75.62480481136298, 6.253763776977541], [-75.62480470397796, 6.2536733200346735], [-75.62516628974437, 6.253672890085955], [-75.62516618229881, 6.253582433149041], [-75.62552776797773, 6.253582002957884], [-75.6255276604716, 6.253491546026928], [-75.62561805687184, 6.253491438441848], [-75.62561794935178, 6.253400981512146], [-75.62570834573489, 6.2534008739130895], [-75.6257078080807, 6.25294858926774], [-75.62561741177525, 6.2529486968589545], [-75.62561730426471, 6.252858239927378], [-75.62543651168012, 6.252858455060044], [-75.62543640420222, 6.252767998125019], [-75.62534600792307, 6.252768105666471], [-75.6253457930031, 6.252587191792351], [-75.62552658549767, 6.252586976700178], [-75.62552647800901, 6.252496519765783], [-75.62570727046618, 6.25249630461458], [-75.62570716294803, 6.252405847683011], [-75.6257975591587, 6.252405740085667], [-75.6257973440961, 6.252224826224729], [-75.6257069479165, 6.252224933818937], [-75.6257067328913, 6.252044019953612], [-75.62561633674116, 6.252044127529142], [-75.62561601426185, 6.251772756724107], [-75.62552561815673, 6.251772864279393], [-75.62552540320951, 6.251591950404673], [-75.62543500713385, 6.251592057941283], [-75.62543489967815, 6.251501601001886], [-75.62534450361642, 6.25150170852139], [-75.62534439617784, 6.251411251580113], [-75.62516360408068, 6.25141146656937], [-75.62516349667474, 6.251321009624646], [-75.62507310063933, 6.251321117094399], [-75.6250729932505, 6.251230660147795], [-75.624982597229, 6.251230767600443], [-75.62498248985729, 6.2511403106519605], [-75.62489209384975, 6.251140418087504], [-75.62489198649514, 6.251049961137143], [-75.62471119450638, 6.251050175958484], [-75.62471108718441, 6.25095971900468], [-75.62462069120318, 6.250959826390477], [-75.62462047659504, 6.250778912478795], [-75.62453008064327, 6.2507790198459245], [-75.62452975878952, 6.250507648971365], [-75.62416817515295, 6.250508078265732], [-75.62416828237384, 6.250598535230491], [-75.6240778864452, 6.250598642516806], [-75.62407799365216, 6.250689099482818], [-75.62398759770643, 6.25068920675516], [-75.62398770489945, 6.250779663722424], [-75.62389730893659, 6.250779770980794], [-75.62389741611565, 6.250870227949309], [-75.6238070201357, 6.2508703351937065], [-75.62380723446752, 6.251051249132927], [-75.62371683845492, 6.251051356364914], [-75.62371694560768, 6.25114181333562], [-75.62362654957799, 6.251141920553633], [-75.6236266567168, 6.25123237752559], [-75.6234458646216, 6.251232591918128], [-75.62344597173094, 6.2513230488929], [-75.62335557566544, 6.251323156067424], [-75.62335568276083, 6.251413613043445], [-75.62326528667823, 6.251413720203993], [-75.62326539375967, 6.251504177181264], [-75.62317499765996, 6.251504284327837], [-75.62317510472744, 6.251594741306358], [-75.62290391637225, 6.251595062657527], [-75.62290380935134, 6.25150460567432], [-75.62281341324531, 6.251504712758736], [-75.62281330624153, 6.251414255773656], [-75.62272291014943, 6.251414362840973], [-75.62272280316276, 6.2513239058540195], [-75.62263240708462, 6.251324012904237], [-75.62263219314706, 6.25114309892627], [-75.62254179709839, 6.251143205957828], [-75.62254136930429, 6.250781377991904], [-75.62263176529082, 6.25078127096659], [-75.6226316583307, 6.25069081397589], [-75.62272205430016, 6.250690706936599], [-75.62272194732608, 6.250600249947147], [-75.62281234327843, 6.25060014289388], [-75.622812129304, 6.250419228917162], [-75.6229025252237, 6.250419121851481], [-75.62290199023762, 6.2499668369120265], [-75.62281159439554, 6.249966943969901], [-75.62281148741859, 6.249876486979512], [-75.62235950826214, 6.249877022028053], [-75.62235940136439, 6.249786565029547], [-75.62217860972181, 6.249786778937101], [-75.62217871658851, 6.249877235938726], [-75.62199792490858, 6.2498774497872605], [-75.6219980317458, 6.2499679067916905], [-75.62181724002852, 6.249968120581204], [-75.62181734683628, 6.2500585775884385], [-75.62154615920196, 6.25005889816087], [-75.62154605244076, 6.24996844114896], [-75.6213652607077, 6.249968654783123], [-75.62136515397914, 6.249878197767783], [-75.62127475812578, 6.249878304560005], [-75.62127454470443, 6.249697390525274], [-75.62118414888053, 6.249697497298845], [-75.62118404218775, 6.249607040279455], [-75.6212744379961, 6.24960693350744], [-75.62127433128937, 6.249516476489294], [-75.62136472708065, 6.249516369703303], [-75.62136462035996, 6.249425912686402], [-75.62145501613414, 6.249425805886434], [-75.62145480266643, 6.249244891854813], [-75.62154519840799, 6.249244785042427], [-75.62154487817169, 6.2489734139973265], [-75.62145448247671, 6.248973520805038], [-75.62145437574996, 6.248883063787821], [-75.62118318870212, 6.248883384113088], [-75.62118329538231, 6.248973841134977], [-75.62082171256773, 6.248974268024107], [-75.62082160594963, 6.248883810995992], [-75.62073121025757, 6.248883917677888], [-75.62073099705712, 6.248703003617607], [-75.62064060139454, 6.248703110280859], [-75.62064017507461, 6.248341282150332], [-75.62073057067512, 6.248341175493304], [-75.62073046408355, 6.248250718461447], [-75.62000729935963, 6.24825157127036], [-75.62000740582702, 6.248342028314657], [-75.61991701021395, 6.248342134847438], [-75.61991711666741, 6.248432591892977], [-75.61982672103721, 6.248432698411779], [-75.61982682747673, 6.24852315545856], [-75.61973643182945, 6.248523261963386], [-75.61973653825501, 6.248613719011408], [-75.61964614259065, 6.248613825502256], [-75.61964624900227, 6.248704282551518], [-75.6195558533208, 6.248704389028387], [-75.61955595971847, 6.2487948460788925], [-75.61946556401992, 6.248794952541782], [-75.61946609595415, 6.2492472377973876], [-75.61937570017643, 6.24924734425251], [-75.61937601930924, 6.249518715406785], [-75.61928562348338, 6.249518821851031], [-75.6192857298486, 6.2496092789033835], [-75.61892414646734, 6.249609704531235], [-75.61893116594304, 6.25557986970579], [-75.6318579026997, 6.255564484328729], [-75.63184693929067, 6.246428344560953]]]}, 'id': '+120+100', 'properties': {'count': 7997, 'informal_settlement': 0}}, {'type': 'Feature', 'geometry': {'geodesic': False, 'type': 'Polygon', 'coordinates': [[[-75.6209091231272, 6.246441364463491], [-75.62036675147472, 6.246442004163036], [-75.62036685797275, 6.246532461207357], [-75.62018606737831, 6.246532674319439], [-75.62018617384688, 6.246623131366556], [-75.62009577853178, 6.246623237900862], [-75.62009588498641, 6.246713694949222], [-75.61991509432046, 6.246713907974363], [-75.61991520074564, 6.24680436502552], [-75.6198248053948, 6.246804471516353], [-75.61982501821882, 6.246985385620838], [-75.6199154136007, 6.246985279126897], [-75.61991552003057, 6.247075736177117], [-75.61964433383368, 6.24707605561702], [-75.61964444021858, 6.247166512671589], [-75.61946364938176, 6.2471667255569905], [-75.6194638620942, 6.247347639671405], [-75.6193734666424, 6.2473477460939195], [-75.6193736793301, 6.247528660210192], [-75.61946407481292, 6.247528553784573], [-75.61946418117466, 6.247619010840689], [-75.61964497216665, 6.247618797939756], [-75.61964518495688, 6.247799712044838], [-75.61973558048156, 6.247799605567971], [-75.61973611256221, 6.248251890817445], [-75.61964571695994, 6.248251997302079], [-75.61964592977216, 6.248432911402792], [-75.61955553413726, 6.248433017875001], [-75.61955574692472, 6.248613931977571], [-75.61946535125722, 6.248614038437355], [-75.61946545763779, 6.248704495489724], [-75.61937506195318, 6.248704601935529], [-75.61937527468798, 6.248885516042438], [-75.61928487897077, 6.248885622475816], [-75.61928509168081, 6.24906653658458], [-75.619194695931, 6.249066643005531], [-75.61919480227284, 6.249157100060998], [-75.61910440650593, 6.2491572064679675], [-75.61910451283381, 6.249247663524674], [-75.61901411704982, 6.2492477699176625], [-75.61901422336376, 6.249338226975607], [-75.61892382756267, 6.249338333354615], [-75.61892414646734, 6.249609704531235], [-75.6192857298486, 6.2496092789033835], [-75.61928562348338, 6.249518821851031], [-75.61937601930924, 6.249518715406785], [-75.61937570017643, 6.24924734425251], [-75.61946609595415, 6.2492472377973876], [-75.61946556401992, 6.248794952541782], [-75.61955595971847, 6.2487948460788925], [-75.6195558533208, 6.248704389028387], [-75.61964624900227, 6.248704282551518], [-75.61964614259065, 6.248613825502256], [-75.61973653825501, 6.248613719011408], [-75.61973643182945, 6.248523261963386], [-75.61982682747673, 6.24852315545856], [-75.61982672103721, 6.248432698411779], [-75.61991711666741, 6.248432591892977], [-75.61991701021395, 6.248342134847438], [-75.62000740582702, 6.248342028314657], [-75.62000729935963, 6.24825157127036], [-75.62073046408355, 6.248250718461447], [-75.62073057067512, 6.248341175493304], [-75.62064017507461, 6.248341282150332], [-75.62064060139454, 6.248703110280859], [-75.62073099705712, 6.248703003617607], [-75.62073121025757, 6.248883917677888], [-75.62082160594963, 6.248883810995992], [-75.62082171256773, 6.248974268024107], [-75.62118329538231, 6.248973841134977], [-75.62118318870212, 6.248883384113088], [-75.62145437574996, 6.248883063787821], [-75.62145448247671, 6.248973520805038], [-75.62154487817169, 6.2489734139973265], [-75.62154519840799, 6.249244785042427], [-75.62145480266643, 6.249244891854813], [-75.62145501613414, 6.249425805886434], [-75.62136462035996, 6.249425912686402], [-75.62136472708065, 6.249516369703303], [-75.62127433128937, 6.249516476489294], [-75.6212744379961, 6.24960693350744], [-75.62118404218775, 6.249607040279455], [-75.62118414888053, 6.249697497298845], [-75.62127454470443, 6.249697390525274], [-75.62127475812578, 6.249878304560005], [-75.62136515397914, 6.249878197767783], [-75.6213652607077, 6.249968654783123], [-75.62154605244076, 6.24996844114896], [-75.62154615920196, 6.25005889816087], [-75.62181734683628, 6.2500585775884385], [-75.62181724002852, 6.249968120581204], [-75.6219980317458, 6.2499679067916905], [-75.62199792490858, 6.2498774497872605], [-75.62217871658851, 6.249877235938726], [-75.62217860972181, 6.249786778937101], [-75.62235940136439, 6.249786565029547], [-75.62235950826214, 6.249877022028053], [-75.62281148741859, 6.249876486979512], [-75.62281159439554, 6.249966943969901], [-75.62290199023762, 6.2499668369120265], [-75.6229025252237, 6.250419121851481], [-75.622812129304, 6.250419228917162], [-75.62281234327843, 6.25060014289388], [-75.62272194732608, 6.250600249947147], [-75.62272205430016, 6.250690706936599], [-75.6226316583307, 6.25069081397589], [-75.62263176529082, 6.25078127096659], [-75.62254136930429, 6.250781377991904], [-75.62254179709839, 6.251143205957828], [-75.62263219314706, 6.25114309892627], [-75.62263240708462, 6.251324012904237], [-75.62272280316276, 6.2513239058540195], [-75.62272291014943, 6.251414362840973], [-75.62281330624153, 6.251414255773656], [-75.62281341324531, 6.251504712758736], [-75.62290380935134, 6.25150460567432], [-75.62290391637225, 6.251595062657527], [-75.62317510472744, 6.251594741306358], [-75.62317499765996, 6.251504284327837], [-75.62326539375967, 6.251504177181264], [-75.62326528667823, 6.251413720203993], [-75.62335568276083, 6.251413613043445], [-75.62335557566544, 6.251323156067424], [-75.62344597173094, 6.2513230488929], [-75.6234458646216, 6.251232591918128], [-75.6236266567168, 6.25123237752559], [-75.62362654957799, 6.251141920553633], [-75.62371694560768, 6.25114181333562], [-75.62371683845492, 6.251051356364914], [-75.62380723446752, 6.251051249132927], [-75.6238070201357, 6.2508703351937065], [-75.62389741611565, 6.250870227949309], [-75.62389730893659, 6.250779770980794], [-75.62398770489945, 6.250779663722424], [-75.62398759770643, 6.25068920675516], [-75.62407799365216, 6.250689099482818], [-75.6240778864452, 6.250598642516806], [-75.62416828237384, 6.250598535230491], [-75.62416817515295, 6.250508078265732], [-75.62452975878952, 6.250507648971365], [-75.62453008064327, 6.2507790198459245], [-75.62462047659504, 6.250778912478795], [-75.62462069120318, 6.250959826390477], [-75.62471108718441, 6.25095971900468], [-75.62471119450638, 6.251050175958484], [-75.62489198649514, 6.251049961137143], [-75.62489209384975, 6.251140418087504], [-75.62498248985729, 6.2511403106519605], [-75.624982597229, 6.251230767600443], [-75.6250729932505, 6.251230660147795], [-75.62507310063933, 6.251321117094399], [-75.62516349667474, 6.251321009624646], [-75.62516360408068, 6.25141146656937], [-75.62534439617784, 6.251411251580113], [-75.62534450361642, 6.25150170852139], [-75.62543489967815, 6.251501601001886], [-75.62543500713385, 6.251592057941283], [-75.62552540320951, 6.251591950404673], [-75.62552561815673, 6.251772864279393], [-75.62561601426185, 6.251772756724107], [-75.62561633674116, 6.252044127529142], [-75.6257067328913, 6.252044019953612], [-75.6257069479165, 6.252224933818937], [-75.6257973440961, 6.252224826224729], [-75.6257975591587, 6.252405740085667], [-75.62570716294803, 6.252405847683011], [-75.62570727046618, 6.25249630461458], [-75.62552647800901, 6.252496519765783], [-75.62552658549767, 6.252586976700178], [-75.6253457930031, 6.252587191792351], [-75.62534600792307, 6.252768105666471], [-75.62543640420222, 6.252767998125019], [-75.62543651168012, 6.252858455060044], [-75.62561730426471, 6.252858239927378], [-75.62561741177525, 6.2529486968589545], [-75.6257078080807, 6.25294858926774], [-75.62570834573489, 6.2534008739130895], [-75.62561794935178, 6.253400981512146], [-75.62561805687184, 6.253491438441848], [-75.6255276604716, 6.253491546026928], [-75.62552776797773, 6.253582002957884], [-75.62516618229881, 6.253582433149041], [-75.62516628974437, 6.253672890085955], [-75.62480470397796, 6.2536733200346735], [-75.62480481136298, 6.253763776977541], [-75.6246240184392, 6.253763991861766], [-75.62462412579474, 6.253854448807457], [-75.62453372931493, 6.253854556227818], [-75.62453383665651, 6.25394501317476], [-75.6244434401596, 6.253945120581141], [-75.62444354748722, 6.254035577529337], [-75.62462434051055, 6.254035362697896], [-75.62462444787083, 6.254125819642647], [-75.62471484439564, 6.254125712202043], [-75.62471495177304, 6.254216169144916], [-75.62480534831181, 6.254216061687201], [-75.62480567050014, 6.254487432509247], [-75.62489606708392, 6.2544873250312865], [-75.62489628191511, 6.254668238907956], [-75.62534826496568, 6.25466770126929], [-75.62534869495784, 6.255029528987538], [-75.62543909162532, 6.255029421406894], [-75.62543919914287, 6.255119878334106], [-75.62571038918247, 6.255119555494183], [-75.62571049674821, 6.25521001241638], [-75.62625287687783, 6.2552093663073265], [-75.62625298453837, 6.2552998232197945], [-75.62688576139276, 6.255299068707466], [-75.62688565362345, 6.255208611805992], [-75.62724724030028, 6.255208180320316], [-75.6272471324704, 6.255117723424816], [-75.62742792576819, 6.255117507591835], [-75.62742781790884, 6.255027050699169], [-75.6275182145398, 6.25502694276093], [-75.6275179987948, 6.2548460289778065], [-75.62760839539311, 6.254845921027165], [-75.62760828750744, 6.254755464136707], [-75.62769868408863, 6.254755356172092], [-75.62769857618902, 6.254664899282897], [-75.62778897275308, 6.254664791304309], [-75.62778875692757, 6.254483877528124], [-75.62787915345896, 6.254483769537138], [-75.62787882968603, 6.25421239887524], [-75.62796922616921, 6.254212290873429], [-75.62796911823256, 6.25412183398708], [-75.62805951469862, 6.254121725971297], [-75.62805940674801, 6.254031269086209], [-75.6282401996443, 6.254031053011157], [-75.62824009166421, 6.253940596128905], [-75.62860167737553, 6.253940163798561], [-75.62860178541776, 6.254030620674512], [-75.62869218185715, 6.254030512551488], [-75.62869250603997, 6.254301883172737], [-75.62860210955398, 6.254301991300488], [-75.62860221760258, 6.254392448175188], [-75.62878301060404, 6.254392231900987], [-75.62878311868529, 6.254482688772223], [-75.62887351519916, 6.254482580610227], [-75.62887362329755, 6.254573037479574], [-75.62914481287619, 6.2545727128955795], [-75.6291445965878, 6.254391799166033], [-75.62923499307975, 6.25439169094343], [-75.62923488492241, 6.254301234079765], [-75.62959647081213, 6.254300801040203], [-75.62959657903161, 6.254391257897556], [-75.62950618254605, 6.254391366182343], [-75.62950639895874, 6.25457227989927], [-75.62959679547538, 6.254572171611326], [-75.62959690369965, 6.254662628467742], [-75.62968730023024, 6.254662520162673], [-75.62968740847164, 6.254752977017197], [-75.62977780501616, 6.254752868695004], [-75.62977802153483, 6.2549337823999585], [-75.62986841810886, 6.25493367405906], [-75.62986852638612, 6.255024130909491], [-75.62995892297405, 6.255024022551466], [-75.62995903126846, 6.255114479400004], [-75.63004942787035, 6.2551143710248525], [-75.63004964449503, 6.255295284717834], [-75.63014004112638, 6.255295176323975], [-75.63014014945665, 6.255385633168417], [-75.63023054610194, 6.25538552475743], [-75.63023065444936, 6.2554759815999805], [-75.63059224107674, 6.255475547794229], [-75.63059213266718, 6.255385090958001], [-75.6308633225743, 6.25538476544517], [-75.63086278031741, 6.2549324812830545], [-75.630772383761, 6.254932589794974], [-75.63077227532995, 6.254842132960032], [-75.63068187878746, 6.254842241454822], [-75.63068177037356, 6.254751784617985], [-75.63086256342586, 6.254751567616021], [-75.6308623465407, 6.254570653947736], [-75.63077195004641, 6.254570762453331], [-75.63077184162178, 6.254480305617138], [-75.63068144514143, 6.254480414105604], [-75.63068122832802, 6.254299500429122], [-75.63077162477728, 6.2542993919438175], [-75.63077173319873, 6.254389848780634], [-75.63086212966194, 6.254389740278202], [-75.6308622381005, 6.254480197113125], [-75.63095263457765, 6.254480088593566], [-75.63095285149069, 6.254661002259313], [-75.63104324799731, 6.254660893721045], [-75.6310430310532, 6.254479980058462], [-75.63113342752713, 6.254479871507811], [-75.63113331904195, 6.254389414677633], [-75.63122371549876, 6.254389306113017], [-75.63122349850211, 6.254208392454889], [-75.63131389492625, 6.254208283877892], [-75.63131378641478, 6.254117827049942], [-75.63122339000618, 6.254117935625356], [-75.63122328151186, 6.25402747879551], [-75.63077129952252, 6.254028021431491], [-75.63077119110748, 6.253937564593424], [-75.63068079472035, 6.253937673072404], [-75.63068068632244, 6.253847216232443], [-75.63059028994924, 6.2538473246942985], [-75.63059007318927, 6.253666411010278], [-75.63040928050022, 6.253666627881031], [-75.63040906380877, 6.253485714189439], [-75.63049946012303, 6.253485605764995], [-75.63049935176419, 6.253395148920311], [-75.63068014435683, 6.2533949320279545], [-75.63068003596851, 6.25330447518612], [-75.6308608285237, 6.253304258234752], [-75.63086104536407, 6.253485171911784], [-75.631041837975, 6.253484954891917], [-75.63104172952295, 6.2533944980567195], [-75.63095133323381, 6.253394606572843], [-75.63095122479889, 6.253304149735753], [-75.63104162107248, 6.25330404122121], [-75.63104151262364, 6.253213584385388], [-75.63149349388995, 6.253213041587441], [-75.63149360241646, 6.253303498415351], [-75.63167439494285, 6.253303281184205], [-75.63167406927491, 6.253031910709036], [-75.63149327684171, 6.253032127930683], [-75.63149316831999, 6.252941671101836], [-75.63131237591146, 6.252941888258148], [-75.63131259289437, 6.253122801921861], [-75.63077021544399, 6.2531234530367605], [-75.63077010704492, 6.25303299619557], [-75.63022772963016, 6.253033646741446], [-75.63022751302323, 6.25285273303916], [-75.6301371168129, 6.252852841405914], [-75.63013733338877, 6.2530337551113595], [-75.62986614465503, 6.253034080127844], [-75.62986625289878, 6.253124536984837], [-75.62968546037057, 6.253124753587939], [-75.62968556858483, 6.2532152104477765], [-75.62941437973394, 6.253215535240591], [-75.6294144879032, 6.253305992104851], [-75.6289625063755, 6.253306533123235], [-75.62896239828389, 6.25321607625109], [-75.6288720019891, 6.25321618440656], [-75.62887156970075, 6.252854356908549], [-75.62878117346649, 6.252854465042172], [-75.62878106541393, 6.252764008165311], [-75.6286906691936, 6.252764116281815], [-75.62869056115817, 6.252673659403068], [-75.62878095736295, 6.252673551288141], [-75.62878084931357, 6.252583094410656], [-75.62941362259376, 6.252582337182033], [-75.62941351443725, 6.252491880315273], [-75.62950391059822, 6.252491772079168], [-75.62950380242779, 6.2524013152136755], [-75.62941340628235, 6.2524014234482035], [-75.62941329812904, 6.252310966580821], [-75.62932290199753, 6.2523110747982305], [-75.62932268572676, 6.2521301610593705], [-75.62914189352108, 6.252130377441257], [-75.62914178541915, 6.252039920568206], [-75.62878020105077, 6.252040353139186], [-75.62878009301255, 6.251949896259516], [-75.628689696932, 6.251950004361835], [-75.62868915684246, 6.251497719950913], [-75.62859876083796, 6.251497828029813], [-75.62859865284035, 6.251407371145116], [-75.6285082568498, 6.251407479206901], [-75.62850814886932, 6.2513170223203165], [-75.62859854484435, 6.251316914260107], [-75.62859843684994, 6.251226457374783], [-75.62877922876417, 6.2512262412109], [-75.6287791207403, 6.251135784328418], [-75.6288695166795, 6.251135676224745], [-75.62886940864169, 6.251045219343527], [-75.62895980456376, 6.251045111225893], [-75.62895969651203, 6.25095465434594], [-75.62905009241699, 6.250954546214346], [-75.62904998435131, 6.250864089335655], [-75.62914038023915, 6.250863981190101], [-75.62914027215956, 6.250773524312675], [-75.6294114597669, 6.2507731997875196], [-75.62941156789309, 6.250863656660212], [-75.62950196377454, 6.250863548452509], [-75.62950185563284, 6.250773091581394], [-75.62977304322104, 6.250772766869796], [-75.62977293503434, 6.2506823100031035], [-75.62995372672079, 6.250682093454177], [-75.62995361850464, 6.250591636590331], [-75.63004401432994, 6.250591528294142], [-75.6300441225616, 6.250681985156409], [-75.63013451840084, 6.250681876843104], [-75.63013441015363, 6.250591419982417], [-75.63031520179624, 6.250591203312356], [-75.63031509351958, 6.250500746454516], [-75.63040548932295, 6.250500638097762], [-75.63040527274339, 6.250319724384302], [-75.63049566851413, 6.250319616015172], [-75.63049556021122, 6.250229159159557], [-75.63058595596482, 6.250229050776472], [-75.63058584764799, 6.250138593922122], [-75.63130901349508, 6.250137726310813], [-75.63130890505563, 6.250047269468804], [-75.63121850934589, 6.250047377973009], [-75.63121829250285, 6.249866464284892], [-75.63112789682253, 6.249866572770398], [-75.63112778841895, 6.249776115924287], [-75.63103739275256, 6.249776224392677], [-75.6310372843661, 6.249685767544673], [-75.63085649305957, 6.249685984431684], [-75.63085638470575, 6.249595527580205], [-75.63040440648905, 6.24959606951798], [-75.63040429821446, 6.249505612658284], [-75.63031390258183, 6.249505720997657], [-75.63031379432435, 6.2494152641360685], [-75.63022339870568, 6.249415372458327], [-75.63022307398938, 6.249144001866951], [-75.6303134695615, 6.249143893549431], [-75.63031336131041, 6.2490534366865935], [-75.63022296575382, 6.249053545002534], [-75.6302226410567, 6.248782174407409], [-75.63013224554508, 6.248782282703077], [-75.63013213733143, 6.248691825835832], [-75.63004174183372, 6.2486919341143885], [-75.63004152544225, 6.248511020375802], [-75.62995112997399, 6.248511128635668], [-75.62995102179616, 6.248420671764328], [-75.62967983542836, 6.248420996446003], [-75.62967972729871, 6.248330539569614], [-75.62904695915995, 6.24833129660556], [-75.62904685114053, 6.2482408397178135], [-75.62877566481798, 6.2482411639240985], [-75.6287755568467, 6.248150707031313], [-75.62850437055639, 6.248151031093095], [-75.62850426263326, 6.248060574195268], [-75.62669635397529, 6.248062731003695], [-75.62669624636416, 6.247972274074091], [-75.62651545549443, 6.247972489410128], [-75.62651534791591, 6.247882032477072], [-75.62642495249418, 6.247882140120226], [-75.62642484493279, 6.247791683185287], [-75.62543049535967, 6.247792866217753], [-75.62543038797055, 6.247702409265242], [-75.62533999256082, 6.247702516718903], [-75.62533988518882, 6.2476120597645135], [-75.62515909439563, 6.247612274622114], [-75.62515898705624, 6.247521817664275], [-75.62506859167279, 6.247521925068215], [-75.6250684843505, 6.2474314681084975], [-75.624978088981, 6.247431575495342], [-75.62497798167581, 6.247341118533747], [-75.62488758632023, 6.247341225903495], [-75.62488747903215, 6.247250768940022], [-75.6247970836905, 6.247250876292676], [-75.62479697641953, 6.247160419327322], [-75.62470658109181, 6.247160526662882], [-75.62470647383795, 6.247070069695652], [-75.62461607852416, 6.247070177014117], [-75.6246157568186, 6.246798806105856], [-75.62452536154977, 6.246798913404098], [-75.62452525433328, 6.246708456432487], [-75.62380209224986, 6.246709314246927], [-75.62380219934224, 6.246799771231054], [-75.62325982762015, 6.246800413949136], [-75.623259934621, 6.246890870942329], [-75.62271756274895, 6.246891513110806], [-75.62271745584118, 6.246801056108243], [-75.6221750840054, 6.246801697708376], [-75.62217497719232, 6.246711240696139], [-75.62199418659881, 6.2467114544355145], [-75.62199407981834, 6.246620997419846], [-75.62172289396278, 6.246621317907782], [-75.62172278723044, 6.246530860887126], [-75.62145160140724, 6.2465311812306465], [-75.62145170809303, 6.246621638255978], [-75.62136131279998, 6.246621745007657], [-75.62136152614526, 6.246802659060498], [-75.62118073549235, 6.246802872523506], [-75.62118062884994, 6.246712415494126], [-75.62109023353665, 6.246712522200782], [-75.62109012691133, 6.246622065169533], [-75.62099973161197, 6.246622171859106], [-75.62099962500375, 6.246531714825989], [-75.62090922971834, 6.246531821498477], [-75.6209091231272, 6.246441364463491]]]}, 'id': '+126+100', 'properties': {'count': 6204, 'informal_settlement': 1}}, {'type': 'Feature', 'geometry': {'geodesic': False, 'type': 'Polygon', 'coordinates': [[[-75.62036675147472, 6.246442004163036], [-75.61892042679143, 6.246443707295878], [-75.61892382756267, 6.249338333354615], [-75.61901422336376, 6.249338226975607], [-75.61901411704982, 6.2492477699176625], [-75.61910451283381, 6.249247663524674], [-75.61910440650593, 6.2491572064679675], [-75.61919480227284, 6.249157100060998], [-75.619194695931, 6.249066643005531], [-75.61928509168081, 6.24906653658458], [-75.61928487897077, 6.248885622475816], [-75.61937527468798, 6.248885516042438], [-75.61937506195318, 6.248704601935529], [-75.61946545763779, 6.248704495489724], [-75.61946535125722, 6.248614038437355], [-75.61955574692472, 6.248613931977571], [-75.61955553413726, 6.248433017875001], [-75.61964592977216, 6.248432911402792], [-75.61964571695994, 6.248251997302079], [-75.61973611256221, 6.248251890817445], [-75.61973558048156, 6.247799605567971], [-75.61964518495688, 6.247799712044838], [-75.61964497216665, 6.247618797939756], [-75.61946418117466, 6.247619010840689], [-75.61946407481292, 6.247528553784573], [-75.6193736793301, 6.247528660210192], [-75.6193734666424, 6.2473477460939195], [-75.6194638620942, 6.247347639671405], [-75.61946364938176, 6.2471667255569905], [-75.61964444021858, 6.247166512671589], [-75.61964433383368, 6.24707605561702], [-75.61991552003057, 6.247075736177117], [-75.6199154136007, 6.246985279126897], [-75.61982501821882, 6.246985385620838], [-75.6198248053948, 6.246804471516353], [-75.61991520074564, 6.24680436502552], [-75.61991509432046, 6.246713907974363], [-75.62009588498641, 6.246713694949222], [-75.62009577853178, 6.246623237900862], [-75.62018617384688, 6.246623131366556], [-75.62018606737831, 6.246532674319439], [-75.62036685797275, 6.246532461207357], [-75.62036675147472, 6.246442004163036]]]}, 'id': '+142+100', 'properties': {'count': 242, 'informal_settlement': 0}}]}\n"
     ]
    }
   ],
   "source": [
    "polygons = medellin_gt.reduceToVectors(scale = 10, labelProperty = \"informal_settlement\")\n",
    "print(polygons.getInfo())"
   ]
  },
  {
   "cell_type": "code",
   "execution_count": null,
   "metadata": {
    "id": "SDQpEm09esHO"
   },
   "outputs": [],
   "source": [
    "# Use these bands for prediction.\n",
    "bands = ['B2', 'B3', 'B4', 'B5', 'B6', 'B7', 'B10', 'B11']\n",
    "bands = ['b2', 'b3', 'b4']\n",
    "# This property of the table stores the land cover labels.\n",
    "label = 'informal_settlement'\n",
    "\n",
    "# Overlay the points on the imagery to get training.\n",
    "training = medellin.select(bands).sampleRegions(**{\n",
    "  'collection': polygons,\n",
    "  'properties': [label],\n",
    "  'scale': 10\n",
    "})"
   ]
  },
  {
   "cell_type": "code",
   "execution_count": null,
   "metadata": {
    "id": "P9xLUprFesHP"
   },
   "outputs": [],
   "source": [
    "svm_classifier = ee.Classifier.libsvm(kernelType = 'RBF')\n",
    "trained = svm_classifier.train(training, label, bands)"
   ]
  },
  {
   "cell_type": "code",
   "execution_count": null,
   "metadata": {
    "id": "xl9RmoxlesHP"
   },
   "outputs": [],
   "source": [
    "result = medellin.select(bands).classify(trained)"
   ]
  },
  {
   "cell_type": "code",
   "execution_count": null,
   "metadata": {
    "colab": {
     "referenced_widgets": [
      "de6c9ee8dc474be2924720af4ad3110f"
     ]
    },
    "id": "OVHFpDOResHQ",
    "outputId": "ae917a70-2db4-4b08-862e-c83e6706e7ac"
   },
   "outputs": [
    {
     "data": {
      "application/vnd.jupyter.widget-view+json": {
       "model_id": "de6c9ee8dc474be2924720af4ad3110f",
       "version_major": 2,
       "version_minor": 0
      },
      "text/plain": [
       "Map(center=[6.2497, -75.58305], controls=(WidgetControl(options=['position'], widget=HBox(children=(ToggleButt…"
      ]
     },
     "metadata": {
      "tags": []
     },
     "output_type": "display_data"
    }
   ],
   "source": [
    "# Display the classification result and the input image.\n",
    "Map = geemap.Map(center=[6.2497,-75.58305], zoom=12)\n",
    "#Map.addLayer(medellin, {\"bands\" : ['b4', 'b3', 'b2'], \"max\" : 0.5, \"gamma\" : 2})\n",
    "#Map.addLayer(polygons, {}, 'training polygons')\n",
    "#Map.addLayer(result, {\"min\" : 0, \"max\" : 1.0, \"palette\" : ['red', 'green']}, \"informal_settlement\")\n",
    "Map"
   ]
  },
  {
   "cell_type": "code",
   "execution_count": null,
   "metadata": {
    "colab": {
     "referenced_widgets": [
      "1672ebd6176246b3a51bc223d7a24d09"
     ]
    },
    "id": "0shdZ6UQesHR",
    "outputId": "f8b7489e-b523-40ae-ed3b-7930ed0deadc"
   },
   "outputs": [
    {
     "data": {
      "application/vnd.jupyter.widget-view+json": {
       "model_id": "1672ebd6176246b3a51bc223d7a24d09",
       "version_major": 2,
       "version_minor": 0
      },
      "text/plain": [
       "Map(center=[6.2497, -75.58305], controls=(WidgetControl(options=['position'], widget=HBox(children=(ToggleButt…"
      ]
     },
     "metadata": {
      "tags": []
     },
     "output_type": "display_data"
    }
   ],
   "source": [
    "Map = geemap.Map(center=[6.2497,-75.58305], zoom=12)\n",
    "#Map.addLayer(medellin, {\"bands\" : ['b4', 'b3', 'b2'], \"max\" : 0.5, \"gamma\" : 2})\n",
    "Map.addLayer(result, {\"min\" : 0, \"max\" : 1.0, \"palette\" : ['red', 'green']}, \"informal_settlement\")\n",
    "Map.addLayer(polygons, {}, 'training polygons')\n",
    "Map"
   ]
  },
  {
   "cell_type": "code",
   "execution_count": null,
   "metadata": {
    "colab": {
     "referenced_widgets": [
      "1672ebd6176246b3a51bc223d7a24d09"
     ]
    },
    "id": "8qEbTvZNesHS",
    "outputId": "0094d14a-133c-47c0-f22e-a7246efad606"
   },
   "outputs": [
    {
     "data": {
      "application/vnd.jupyter.widget-view+json": {
       "model_id": "1672ebd6176246b3a51bc223d7a24d09",
       "version_major": 2,
       "version_minor": 0
      },
      "text/plain": [
       "Map(bottom=8096996.0, center=[6.251312221347882, -75.62495827674867], controls=(WidgetControl(options=['positi…"
      ]
     },
     "metadata": {
      "tags": []
     },
     "output_type": "display_data"
    }
   ],
   "source": [
    "Map.addLayer(polygons, {}, 'training polygons')\n",
    "Map"
   ]
  },
  {
   "cell_type": "code",
   "execution_count": null,
   "metadata": {
    "colab": {
     "referenced_widgets": [
      "1672ebd6176246b3a51bc223d7a24d09"
     ]
    },
    "id": "5ZlCWuPLesHT",
    "outputId": "691a0516-969d-48d3-ee01-28a6a30bf5b8"
   },
   "outputs": [
    {
     "data": {
      "application/vnd.jupyter.widget-view+json": {
       "model_id": "1672ebd6176246b3a51bc223d7a24d09",
       "version_major": 2,
       "version_minor": 0
      },
      "text/plain": [
       "Map(bottom=8096996.0, center=[6.251312221347882, -75.62495827674867], controls=(WidgetControl(options=['positi…"
      ]
     },
     "metadata": {
      "tags": []
     },
     "output_type": "display_data"
    }
   ],
   "source": [
    "medellin_ground_det={\n",
    "  \"bands\": ['b1'],\n",
    "  \"min\" : 0,\n",
    "  \"max\" : 1\n",
    "}\n",
    "Map.addLayer(medellin_gt,medellin_ground_det,'Medellin')\n",
    "Map"
   ]
  },
  {
   "cell_type": "code",
   "execution_count": null,
   "metadata": {
    "id": "iQ84WBOsesHU"
   },
   "outputs": [],
   "source": [
    "kianda = ee.Image(\"users/shehryarsaroya/Kianda_s2\")\n",
    "kianda_gt = ee.Image(\"users/shehryarsaroya/Kianda_ground_truth_s2\")\n"
   ]
  },
  {
   "cell_type": "code",
   "execution_count": null,
   "metadata": {
    "id": "fIhAu5XwesHV"
   },
   "outputs": [],
   "source": [
    "result_kianda = kianda.select(bands).classify(trained)"
   ]
  },
  {
   "cell_type": "code",
   "execution_count": null,
   "metadata": {
    "id": "SICqtQkCesHV"
   },
   "outputs": [],
   "source": [
    "polygons_kianda = kianda_gt.reduceToVectors(scale = 10, labelProperty = \"informal_settlement\")"
   ]
  },
  {
   "cell_type": "code",
   "execution_count": null,
   "metadata": {
    "id": "n_xDg7slesHW"
   },
   "outputs": [],
   "source": [
    "#print(polygons_kianda.getInfo())"
   ]
  },
  {
   "cell_type": "code",
   "execution_count": null,
   "metadata": {
    "colab": {
     "referenced_widgets": [
      "faa1695f9d8f4ce8876b639b6366a9fb"
     ]
    },
    "id": "ZBAMZMt5esHW",
    "outputId": "4bd8f97d-2690-404a-a06c-b5e42d0001d0"
   },
   "outputs": [
    {
     "data": {
      "application/vnd.jupyter.widget-view+json": {
       "model_id": "faa1695f9d8f4ce8876b639b6366a9fb",
       "version_major": 2,
       "version_minor": 0
      },
      "text/plain": [
       "Map(center=[-1.3115, 36.7659242], controls=(WidgetControl(options=['position'], widget=HBox(children=(ToggleBu…"
      ]
     },
     "metadata": {
      "tags": []
     },
     "output_type": "display_data"
    }
   ],
   "source": [
    "Map = geemap.Map(center=[-1.3115,36.7659242], zoom=15)\n",
    "#Map.addLayer(medellin, {\"bands\" : ['b4', 'b3', 'b2'], \"max\" : 0.5, \"gamma\" : 2})\n",
    "Map.addLayer(result_kianda, {\"min\" : 0, \"max\" : 1.0, \"palette\" : ['red', 'green']}, \"informal_settlement\")\n",
    "Map.addLayer(polygons_kianda, {}, 'training polygons')\n",
    "Map"
   ]
  },
  {
   "cell_type": "code",
   "execution_count": null,
   "metadata": {
    "id": "1fQBCBLOesHX"
   },
   "outputs": [],
   "source": []
  }
 ],
 "metadata": {
  "colab": {
   "name": "scratchpad (1).ipynb",
   "provenance": []
  },
  "kernelspec": {
   "display_name": "Python 3",
   "language": "python",
   "name": "python3"
  },
  "language_info": {
   "codemirror_mode": {
    "name": "ipython",
    "version": 3
   },
   "file_extension": ".py",
   "mimetype": "text/x-python",
   "name": "python",
   "nbconvert_exporter": "python",
   "pygments_lexer": "ipython3",
   "version": "3.7.3"
  },
  "pycharm": {
   "stem_cell": {
    "cell_type": "raw",
    "metadata": {
     "collapsed": false
    },
    "source": []
   }
  }
 },
 "nbformat": 4,
 "nbformat_minor": 1
}
